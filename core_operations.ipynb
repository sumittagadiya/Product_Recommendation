{
  "nbformat": 4,
  "nbformat_minor": 0,
  "metadata": {
    "kernelspec": {
      "display_name": "Python 3",
      "language": "python",
      "name": "python3"
    },
    "language_info": {
      "codemirror_mode": {
        "name": "ipython",
        "version": 3
      },
      "file_extension": ".py",
      "mimetype": "text/x-python",
      "name": "python",
      "nbconvert_exporter": "python",
      "pygments_lexer": "ipython3",
      "version": "3.6.6"
    },
    "colab": {
      "name": "create_db.ipynb",
      "provenance": [],
      "collapsed_sections": [],
      "toc_visible": true
    },
    "widgets": {
      "application/vnd.jupyter.widget-state+json": {
        "546017159d7c4731a32d61d0686f4fd0": {
          "model_module": "@jupyter-widgets/controls",
          "model_name": "HBoxModel",
          "state": {
            "_view_name": "HBoxView",
            "_dom_classes": [],
            "_model_name": "HBoxModel",
            "_view_module": "@jupyter-widgets/controls",
            "_model_module_version": "1.5.0",
            "_view_count": null,
            "_view_module_version": "1.5.0",
            "box_style": "",
            "layout": "IPY_MODEL_d6979dc84b6b4d3388e06155ea6e71bd",
            "_model_module": "@jupyter-widgets/controls",
            "children": [
              "IPY_MODEL_d6a9b3bd26a740d4abb9c6c8d246b9d3",
              "IPY_MODEL_66786e98b080431e9f16ed09e700ee61"
            ]
          }
        },
        "d6979dc84b6b4d3388e06155ea6e71bd": {
          "model_module": "@jupyter-widgets/base",
          "model_name": "LayoutModel",
          "state": {
            "_view_name": "LayoutView",
            "grid_template_rows": null,
            "right": null,
            "justify_content": null,
            "_view_module": "@jupyter-widgets/base",
            "overflow": null,
            "_model_module_version": "1.2.0",
            "_view_count": null,
            "flex_flow": null,
            "width": null,
            "min_width": null,
            "border": null,
            "align_items": null,
            "bottom": null,
            "_model_module": "@jupyter-widgets/base",
            "top": null,
            "grid_column": null,
            "overflow_y": null,
            "overflow_x": null,
            "grid_auto_flow": null,
            "grid_area": null,
            "grid_template_columns": null,
            "flex": null,
            "_model_name": "LayoutModel",
            "justify_items": null,
            "grid_row": null,
            "max_height": null,
            "align_content": null,
            "visibility": null,
            "align_self": null,
            "height": null,
            "min_height": null,
            "padding": null,
            "grid_auto_rows": null,
            "grid_gap": null,
            "max_width": null,
            "order": null,
            "_view_module_version": "1.2.0",
            "grid_template_areas": null,
            "object_position": null,
            "object_fit": null,
            "grid_auto_columns": null,
            "margin": null,
            "display": null,
            "left": null
          }
        },
        "d6a9b3bd26a740d4abb9c6c8d246b9d3": {
          "model_module": "@jupyter-widgets/controls",
          "model_name": "FloatProgressModel",
          "state": {
            "_view_name": "ProgressView",
            "style": "IPY_MODEL_b9955966a1f945868f17d3449cbcdc7b",
            "_dom_classes": [],
            "description": "100%",
            "_model_name": "FloatProgressModel",
            "bar_style": "success",
            "max": 16042,
            "_view_module": "@jupyter-widgets/controls",
            "_model_module_version": "1.5.0",
            "value": 16042,
            "_view_count": null,
            "_view_module_version": "1.5.0",
            "orientation": "horizontal",
            "min": 0,
            "description_tooltip": null,
            "_model_module": "@jupyter-widgets/controls",
            "layout": "IPY_MODEL_e1dbf6a3598b41b79881bfbdaead6c9f"
          }
        },
        "66786e98b080431e9f16ed09e700ee61": {
          "model_module": "@jupyter-widgets/controls",
          "model_name": "HTMLModel",
          "state": {
            "_view_name": "HTMLView",
            "style": "IPY_MODEL_ac901fa8a67f4b68847782649c736d07",
            "_dom_classes": [],
            "description": "",
            "_model_name": "HTMLModel",
            "placeholder": "​",
            "_view_module": "@jupyter-widgets/controls",
            "_model_module_version": "1.5.0",
            "value": " 16042/16042 [00:31&lt;00:00, 506.79it/s]",
            "_view_count": null,
            "_view_module_version": "1.5.0",
            "description_tooltip": null,
            "_model_module": "@jupyter-widgets/controls",
            "layout": "IPY_MODEL_28513723d6a14f1f8e4ab203d6509c4d"
          }
        },
        "b9955966a1f945868f17d3449cbcdc7b": {
          "model_module": "@jupyter-widgets/controls",
          "model_name": "ProgressStyleModel",
          "state": {
            "_view_name": "StyleView",
            "_model_name": "ProgressStyleModel",
            "description_width": "initial",
            "_view_module": "@jupyter-widgets/base",
            "_model_module_version": "1.5.0",
            "_view_count": null,
            "_view_module_version": "1.2.0",
            "bar_color": null,
            "_model_module": "@jupyter-widgets/controls"
          }
        },
        "e1dbf6a3598b41b79881bfbdaead6c9f": {
          "model_module": "@jupyter-widgets/base",
          "model_name": "LayoutModel",
          "state": {
            "_view_name": "LayoutView",
            "grid_template_rows": null,
            "right": null,
            "justify_content": null,
            "_view_module": "@jupyter-widgets/base",
            "overflow": null,
            "_model_module_version": "1.2.0",
            "_view_count": null,
            "flex_flow": null,
            "width": null,
            "min_width": null,
            "border": null,
            "align_items": null,
            "bottom": null,
            "_model_module": "@jupyter-widgets/base",
            "top": null,
            "grid_column": null,
            "overflow_y": null,
            "overflow_x": null,
            "grid_auto_flow": null,
            "grid_area": null,
            "grid_template_columns": null,
            "flex": null,
            "_model_name": "LayoutModel",
            "justify_items": null,
            "grid_row": null,
            "max_height": null,
            "align_content": null,
            "visibility": null,
            "align_self": null,
            "height": null,
            "min_height": null,
            "padding": null,
            "grid_auto_rows": null,
            "grid_gap": null,
            "max_width": null,
            "order": null,
            "_view_module_version": "1.2.0",
            "grid_template_areas": null,
            "object_position": null,
            "object_fit": null,
            "grid_auto_columns": null,
            "margin": null,
            "display": null,
            "left": null
          }
        },
        "ac901fa8a67f4b68847782649c736d07": {
          "model_module": "@jupyter-widgets/controls",
          "model_name": "DescriptionStyleModel",
          "state": {
            "_view_name": "StyleView",
            "_model_name": "DescriptionStyleModel",
            "description_width": "",
            "_view_module": "@jupyter-widgets/base",
            "_model_module_version": "1.5.0",
            "_view_count": null,
            "_view_module_version": "1.2.0",
            "_model_module": "@jupyter-widgets/controls"
          }
        },
        "28513723d6a14f1f8e4ab203d6509c4d": {
          "model_module": "@jupyter-widgets/base",
          "model_name": "LayoutModel",
          "state": {
            "_view_name": "LayoutView",
            "grid_template_rows": null,
            "right": null,
            "justify_content": null,
            "_view_module": "@jupyter-widgets/base",
            "overflow": null,
            "_model_module_version": "1.2.0",
            "_view_count": null,
            "flex_flow": null,
            "width": null,
            "min_width": null,
            "border": null,
            "align_items": null,
            "bottom": null,
            "_model_module": "@jupyter-widgets/base",
            "top": null,
            "grid_column": null,
            "overflow_y": null,
            "overflow_x": null,
            "grid_auto_flow": null,
            "grid_area": null,
            "grid_template_columns": null,
            "flex": null,
            "_model_name": "LayoutModel",
            "justify_items": null,
            "grid_row": null,
            "max_height": null,
            "align_content": null,
            "visibility": null,
            "align_self": null,
            "height": null,
            "min_height": null,
            "padding": null,
            "grid_auto_rows": null,
            "grid_gap": null,
            "max_width": null,
            "order": null,
            "_view_module_version": "1.2.0",
            "grid_template_areas": null,
            "object_position": null,
            "object_fit": null,
            "grid_auto_columns": null,
            "margin": null,
            "display": null,
            "left": null
          }
        },
        "10f9da76c603454e83ab70af6c41cc5f": {
          "model_module": "@jupyter-widgets/controls",
          "model_name": "HBoxModel",
          "state": {
            "_view_name": "HBoxView",
            "_dom_classes": [],
            "_model_name": "HBoxModel",
            "_view_module": "@jupyter-widgets/controls",
            "_model_module_version": "1.5.0",
            "_view_count": null,
            "_view_module_version": "1.5.0",
            "box_style": "",
            "layout": "IPY_MODEL_340de0968a3543e79cabcd571f7095e6",
            "_model_module": "@jupyter-widgets/controls",
            "children": [
              "IPY_MODEL_3eaeb2cfe1bd46628baaf4646b9c3316",
              "IPY_MODEL_db3d601cf506405db8e282d1985103e1"
            ]
          }
        },
        "340de0968a3543e79cabcd571f7095e6": {
          "model_module": "@jupyter-widgets/base",
          "model_name": "LayoutModel",
          "state": {
            "_view_name": "LayoutView",
            "grid_template_rows": null,
            "right": null,
            "justify_content": null,
            "_view_module": "@jupyter-widgets/base",
            "overflow": null,
            "_model_module_version": "1.2.0",
            "_view_count": null,
            "flex_flow": null,
            "width": null,
            "min_width": null,
            "border": null,
            "align_items": null,
            "bottom": null,
            "_model_module": "@jupyter-widgets/base",
            "top": null,
            "grid_column": null,
            "overflow_y": null,
            "overflow_x": null,
            "grid_auto_flow": null,
            "grid_area": null,
            "grid_template_columns": null,
            "flex": null,
            "_model_name": "LayoutModel",
            "justify_items": null,
            "grid_row": null,
            "max_height": null,
            "align_content": null,
            "visibility": null,
            "align_self": null,
            "height": null,
            "min_height": null,
            "padding": null,
            "grid_auto_rows": null,
            "grid_gap": null,
            "max_width": null,
            "order": null,
            "_view_module_version": "1.2.0",
            "grid_template_areas": null,
            "object_position": null,
            "object_fit": null,
            "grid_auto_columns": null,
            "margin": null,
            "display": null,
            "left": null
          }
        },
        "3eaeb2cfe1bd46628baaf4646b9c3316": {
          "model_module": "@jupyter-widgets/controls",
          "model_name": "FloatProgressModel",
          "state": {
            "_view_name": "ProgressView",
            "style": "IPY_MODEL_0dfdf03b0d644643a73626e3867eb974",
            "_dom_classes": [],
            "description": "100%",
            "_model_name": "FloatProgressModel",
            "bar_style": "success",
            "max": 16042,
            "_view_module": "@jupyter-widgets/controls",
            "_model_module_version": "1.5.0",
            "value": 16042,
            "_view_count": null,
            "_view_module_version": "1.5.0",
            "orientation": "horizontal",
            "min": 0,
            "description_tooltip": null,
            "_model_module": "@jupyter-widgets/controls",
            "layout": "IPY_MODEL_f25bc2085c764e65b8c8fc4c27aabbb1"
          }
        },
        "db3d601cf506405db8e282d1985103e1": {
          "model_module": "@jupyter-widgets/controls",
          "model_name": "HTMLModel",
          "state": {
            "_view_name": "HTMLView",
            "style": "IPY_MODEL_19dee1f0c9e543568ad3f8d097d5b49a",
            "_dom_classes": [],
            "description": "",
            "_model_name": "HTMLModel",
            "placeholder": "​",
            "_view_module": "@jupyter-widgets/controls",
            "_model_module_version": "1.5.0",
            "value": " 16042/16042 [01:54&lt;00:00, 139.92it/s]",
            "_view_count": null,
            "_view_module_version": "1.5.0",
            "description_tooltip": null,
            "_model_module": "@jupyter-widgets/controls",
            "layout": "IPY_MODEL_817a989fb61a4990bd7920b6b69a849e"
          }
        },
        "0dfdf03b0d644643a73626e3867eb974": {
          "model_module": "@jupyter-widgets/controls",
          "model_name": "ProgressStyleModel",
          "state": {
            "_view_name": "StyleView",
            "_model_name": "ProgressStyleModel",
            "description_width": "initial",
            "_view_module": "@jupyter-widgets/base",
            "_model_module_version": "1.5.0",
            "_view_count": null,
            "_view_module_version": "1.2.0",
            "bar_color": null,
            "_model_module": "@jupyter-widgets/controls"
          }
        },
        "f25bc2085c764e65b8c8fc4c27aabbb1": {
          "model_module": "@jupyter-widgets/base",
          "model_name": "LayoutModel",
          "state": {
            "_view_name": "LayoutView",
            "grid_template_rows": null,
            "right": null,
            "justify_content": null,
            "_view_module": "@jupyter-widgets/base",
            "overflow": null,
            "_model_module_version": "1.2.0",
            "_view_count": null,
            "flex_flow": null,
            "width": null,
            "min_width": null,
            "border": null,
            "align_items": null,
            "bottom": null,
            "_model_module": "@jupyter-widgets/base",
            "top": null,
            "grid_column": null,
            "overflow_y": null,
            "overflow_x": null,
            "grid_auto_flow": null,
            "grid_area": null,
            "grid_template_columns": null,
            "flex": null,
            "_model_name": "LayoutModel",
            "justify_items": null,
            "grid_row": null,
            "max_height": null,
            "align_content": null,
            "visibility": null,
            "align_self": null,
            "height": null,
            "min_height": null,
            "padding": null,
            "grid_auto_rows": null,
            "grid_gap": null,
            "max_width": null,
            "order": null,
            "_view_module_version": "1.2.0",
            "grid_template_areas": null,
            "object_position": null,
            "object_fit": null,
            "grid_auto_columns": null,
            "margin": null,
            "display": null,
            "left": null
          }
        },
        "19dee1f0c9e543568ad3f8d097d5b49a": {
          "model_module": "@jupyter-widgets/controls",
          "model_name": "DescriptionStyleModel",
          "state": {
            "_view_name": "StyleView",
            "_model_name": "DescriptionStyleModel",
            "description_width": "",
            "_view_module": "@jupyter-widgets/base",
            "_model_module_version": "1.5.0",
            "_view_count": null,
            "_view_module_version": "1.2.0",
            "_model_module": "@jupyter-widgets/controls"
          }
        },
        "817a989fb61a4990bd7920b6b69a849e": {
          "model_module": "@jupyter-widgets/base",
          "model_name": "LayoutModel",
          "state": {
            "_view_name": "LayoutView",
            "grid_template_rows": null,
            "right": null,
            "justify_content": null,
            "_view_module": "@jupyter-widgets/base",
            "overflow": null,
            "_model_module_version": "1.2.0",
            "_view_count": null,
            "flex_flow": null,
            "width": null,
            "min_width": null,
            "border": null,
            "align_items": null,
            "bottom": null,
            "_model_module": "@jupyter-widgets/base",
            "top": null,
            "grid_column": null,
            "overflow_y": null,
            "overflow_x": null,
            "grid_auto_flow": null,
            "grid_area": null,
            "grid_template_columns": null,
            "flex": null,
            "_model_name": "LayoutModel",
            "justify_items": null,
            "grid_row": null,
            "max_height": null,
            "align_content": null,
            "visibility": null,
            "align_self": null,
            "height": null,
            "min_height": null,
            "padding": null,
            "grid_auto_rows": null,
            "grid_gap": null,
            "max_width": null,
            "order": null,
            "_view_module_version": "1.2.0",
            "grid_template_areas": null,
            "object_position": null,
            "object_fit": null,
            "grid_auto_columns": null,
            "margin": null,
            "display": null,
            "left": null
          }
        },
        "97f32393962942ce9513741850f14a3a": {
          "model_module": "@jupyter-widgets/controls",
          "model_name": "HBoxModel",
          "state": {
            "_view_name": "HBoxView",
            "_dom_classes": [],
            "_model_name": "HBoxModel",
            "_view_module": "@jupyter-widgets/controls",
            "_model_module_version": "1.5.0",
            "_view_count": null,
            "_view_module_version": "1.5.0",
            "box_style": "",
            "layout": "IPY_MODEL_bbc4e27047dd4c15a4fcec852be26488",
            "_model_module": "@jupyter-widgets/controls",
            "children": [
              "IPY_MODEL_b3696022801f4e5380ab6b97596cb027",
              "IPY_MODEL_15e411af0ec248d1bba0bbc8b63e0459"
            ]
          }
        },
        "bbc4e27047dd4c15a4fcec852be26488": {
          "model_module": "@jupyter-widgets/base",
          "model_name": "LayoutModel",
          "state": {
            "_view_name": "LayoutView",
            "grid_template_rows": null,
            "right": null,
            "justify_content": null,
            "_view_module": "@jupyter-widgets/base",
            "overflow": null,
            "_model_module_version": "1.2.0",
            "_view_count": null,
            "flex_flow": null,
            "width": null,
            "min_width": null,
            "border": null,
            "align_items": null,
            "bottom": null,
            "_model_module": "@jupyter-widgets/base",
            "top": null,
            "grid_column": null,
            "overflow_y": null,
            "overflow_x": null,
            "grid_auto_flow": null,
            "grid_area": null,
            "grid_template_columns": null,
            "flex": null,
            "_model_name": "LayoutModel",
            "justify_items": null,
            "grid_row": null,
            "max_height": null,
            "align_content": null,
            "visibility": null,
            "align_self": null,
            "height": null,
            "min_height": null,
            "padding": null,
            "grid_auto_rows": null,
            "grid_gap": null,
            "max_width": null,
            "order": null,
            "_view_module_version": "1.2.0",
            "grid_template_areas": null,
            "object_position": null,
            "object_fit": null,
            "grid_auto_columns": null,
            "margin": null,
            "display": null,
            "left": null
          }
        },
        "b3696022801f4e5380ab6b97596cb027": {
          "model_module": "@jupyter-widgets/controls",
          "model_name": "FloatProgressModel",
          "state": {
            "_view_name": "ProgressView",
            "style": "IPY_MODEL_1aa7c0a89c184e48a8807a285ada3cae",
            "_dom_classes": [],
            "description": "100%",
            "_model_name": "FloatProgressModel",
            "bar_style": "success",
            "max": 16042,
            "_view_module": "@jupyter-widgets/controls",
            "_model_module_version": "1.5.0",
            "value": 16042,
            "_view_count": null,
            "_view_module_version": "1.5.0",
            "orientation": "horizontal",
            "min": 0,
            "description_tooltip": null,
            "_model_module": "@jupyter-widgets/controls",
            "layout": "IPY_MODEL_cbce3b7e2c7942f1bad9f294f5b4648b"
          }
        },
        "15e411af0ec248d1bba0bbc8b63e0459": {
          "model_module": "@jupyter-widgets/controls",
          "model_name": "HTMLModel",
          "state": {
            "_view_name": "HTMLView",
            "style": "IPY_MODEL_eff3d56eaaaa41efa410a3e80a69b584",
            "_dom_classes": [],
            "description": "",
            "_model_name": "HTMLModel",
            "placeholder": "​",
            "_view_module": "@jupyter-widgets/controls",
            "_model_module_version": "1.5.0",
            "value": " 16042/16042 [01:33&lt;00:00, 172.45it/s]",
            "_view_count": null,
            "_view_module_version": "1.5.0",
            "description_tooltip": null,
            "_model_module": "@jupyter-widgets/controls",
            "layout": "IPY_MODEL_d11824bec9ff47629ff2b95057178423"
          }
        },
        "1aa7c0a89c184e48a8807a285ada3cae": {
          "model_module": "@jupyter-widgets/controls",
          "model_name": "ProgressStyleModel",
          "state": {
            "_view_name": "StyleView",
            "_model_name": "ProgressStyleModel",
            "description_width": "initial",
            "_view_module": "@jupyter-widgets/base",
            "_model_module_version": "1.5.0",
            "_view_count": null,
            "_view_module_version": "1.2.0",
            "bar_color": null,
            "_model_module": "@jupyter-widgets/controls"
          }
        },
        "cbce3b7e2c7942f1bad9f294f5b4648b": {
          "model_module": "@jupyter-widgets/base",
          "model_name": "LayoutModel",
          "state": {
            "_view_name": "LayoutView",
            "grid_template_rows": null,
            "right": null,
            "justify_content": null,
            "_view_module": "@jupyter-widgets/base",
            "overflow": null,
            "_model_module_version": "1.2.0",
            "_view_count": null,
            "flex_flow": null,
            "width": null,
            "min_width": null,
            "border": null,
            "align_items": null,
            "bottom": null,
            "_model_module": "@jupyter-widgets/base",
            "top": null,
            "grid_column": null,
            "overflow_y": null,
            "overflow_x": null,
            "grid_auto_flow": null,
            "grid_area": null,
            "grid_template_columns": null,
            "flex": null,
            "_model_name": "LayoutModel",
            "justify_items": null,
            "grid_row": null,
            "max_height": null,
            "align_content": null,
            "visibility": null,
            "align_self": null,
            "height": null,
            "min_height": null,
            "padding": null,
            "grid_auto_rows": null,
            "grid_gap": null,
            "max_width": null,
            "order": null,
            "_view_module_version": "1.2.0",
            "grid_template_areas": null,
            "object_position": null,
            "object_fit": null,
            "grid_auto_columns": null,
            "margin": null,
            "display": null,
            "left": null
          }
        },
        "eff3d56eaaaa41efa410a3e80a69b584": {
          "model_module": "@jupyter-widgets/controls",
          "model_name": "DescriptionStyleModel",
          "state": {
            "_view_name": "StyleView",
            "_model_name": "DescriptionStyleModel",
            "description_width": "",
            "_view_module": "@jupyter-widgets/base",
            "_model_module_version": "1.5.0",
            "_view_count": null,
            "_view_module_version": "1.2.0",
            "_model_module": "@jupyter-widgets/controls"
          }
        },
        "d11824bec9ff47629ff2b95057178423": {
          "model_module": "@jupyter-widgets/base",
          "model_name": "LayoutModel",
          "state": {
            "_view_name": "LayoutView",
            "grid_template_rows": null,
            "right": null,
            "justify_content": null,
            "_view_module": "@jupyter-widgets/base",
            "overflow": null,
            "_model_module_version": "1.2.0",
            "_view_count": null,
            "flex_flow": null,
            "width": null,
            "min_width": null,
            "border": null,
            "align_items": null,
            "bottom": null,
            "_model_module": "@jupyter-widgets/base",
            "top": null,
            "grid_column": null,
            "overflow_y": null,
            "overflow_x": null,
            "grid_auto_flow": null,
            "grid_area": null,
            "grid_template_columns": null,
            "flex": null,
            "_model_name": "LayoutModel",
            "justify_items": null,
            "grid_row": null,
            "max_height": null,
            "align_content": null,
            "visibility": null,
            "align_self": null,
            "height": null,
            "min_height": null,
            "padding": null,
            "grid_auto_rows": null,
            "grid_gap": null,
            "max_width": null,
            "order": null,
            "_view_module_version": "1.2.0",
            "grid_template_areas": null,
            "object_position": null,
            "object_fit": null,
            "grid_auto_columns": null,
            "margin": null,
            "display": null,
            "left": null
          }
        },
        "333c045bc2f7445ea82d4b7e0b823750": {
          "model_module": "@jupyter-widgets/controls",
          "model_name": "HBoxModel",
          "state": {
            "_view_name": "HBoxView",
            "_dom_classes": [],
            "_model_name": "HBoxModel",
            "_view_module": "@jupyter-widgets/controls",
            "_model_module_version": "1.5.0",
            "_view_count": null,
            "_view_module_version": "1.5.0",
            "box_style": "",
            "layout": "IPY_MODEL_7805ba9169db40589f1280e16e5dfdda",
            "_model_module": "@jupyter-widgets/controls",
            "children": [
              "IPY_MODEL_fab6b89a1d3c4c46b4d4c595f617a50c",
              "IPY_MODEL_a755e24d728349b5b87eb54bd96cefde"
            ]
          }
        },
        "7805ba9169db40589f1280e16e5dfdda": {
          "model_module": "@jupyter-widgets/base",
          "model_name": "LayoutModel",
          "state": {
            "_view_name": "LayoutView",
            "grid_template_rows": null,
            "right": null,
            "justify_content": null,
            "_view_module": "@jupyter-widgets/base",
            "overflow": null,
            "_model_module_version": "1.2.0",
            "_view_count": null,
            "flex_flow": null,
            "width": null,
            "min_width": null,
            "border": null,
            "align_items": null,
            "bottom": null,
            "_model_module": "@jupyter-widgets/base",
            "top": null,
            "grid_column": null,
            "overflow_y": null,
            "overflow_x": null,
            "grid_auto_flow": null,
            "grid_area": null,
            "grid_template_columns": null,
            "flex": null,
            "_model_name": "LayoutModel",
            "justify_items": null,
            "grid_row": null,
            "max_height": null,
            "align_content": null,
            "visibility": null,
            "align_self": null,
            "height": null,
            "min_height": null,
            "padding": null,
            "grid_auto_rows": null,
            "grid_gap": null,
            "max_width": null,
            "order": null,
            "_view_module_version": "1.2.0",
            "grid_template_areas": null,
            "object_position": null,
            "object_fit": null,
            "grid_auto_columns": null,
            "margin": null,
            "display": null,
            "left": null
          }
        },
        "fab6b89a1d3c4c46b4d4c595f617a50c": {
          "model_module": "@jupyter-widgets/controls",
          "model_name": "FloatProgressModel",
          "state": {
            "_view_name": "ProgressView",
            "style": "IPY_MODEL_d2216a53a9894e699281670dffc931ed",
            "_dom_classes": [],
            "description": "100%",
            "_model_name": "FloatProgressModel",
            "bar_style": "success",
            "max": 11125,
            "_view_module": "@jupyter-widgets/controls",
            "_model_module_version": "1.5.0",
            "value": 11125,
            "_view_count": null,
            "_view_module_version": "1.5.0",
            "orientation": "horizontal",
            "min": 0,
            "description_tooltip": null,
            "_model_module": "@jupyter-widgets/controls",
            "layout": "IPY_MODEL_0958e8e6f80c4f9fbea362071c2c6b58"
          }
        },
        "a755e24d728349b5b87eb54bd96cefde": {
          "model_module": "@jupyter-widgets/controls",
          "model_name": "HTMLModel",
          "state": {
            "_view_name": "HTMLView",
            "style": "IPY_MODEL_5acf5255da7f44ddaf15085fb3d73527",
            "_dom_classes": [],
            "description": "",
            "_model_name": "HTMLModel",
            "placeholder": "​",
            "_view_module": "@jupyter-widgets/controls",
            "_model_module_version": "1.5.0",
            "value": " 11125/11125 [00:00&lt;00:00, 19903.15it/s]",
            "_view_count": null,
            "_view_module_version": "1.5.0",
            "description_tooltip": null,
            "_model_module": "@jupyter-widgets/controls",
            "layout": "IPY_MODEL_b67c5861bad34479af402ba09854f28d"
          }
        },
        "d2216a53a9894e699281670dffc931ed": {
          "model_module": "@jupyter-widgets/controls",
          "model_name": "ProgressStyleModel",
          "state": {
            "_view_name": "StyleView",
            "_model_name": "ProgressStyleModel",
            "description_width": "initial",
            "_view_module": "@jupyter-widgets/base",
            "_model_module_version": "1.5.0",
            "_view_count": null,
            "_view_module_version": "1.2.0",
            "bar_color": null,
            "_model_module": "@jupyter-widgets/controls"
          }
        },
        "0958e8e6f80c4f9fbea362071c2c6b58": {
          "model_module": "@jupyter-widgets/base",
          "model_name": "LayoutModel",
          "state": {
            "_view_name": "LayoutView",
            "grid_template_rows": null,
            "right": null,
            "justify_content": null,
            "_view_module": "@jupyter-widgets/base",
            "overflow": null,
            "_model_module_version": "1.2.0",
            "_view_count": null,
            "flex_flow": null,
            "width": null,
            "min_width": null,
            "border": null,
            "align_items": null,
            "bottom": null,
            "_model_module": "@jupyter-widgets/base",
            "top": null,
            "grid_column": null,
            "overflow_y": null,
            "overflow_x": null,
            "grid_auto_flow": null,
            "grid_area": null,
            "grid_template_columns": null,
            "flex": null,
            "_model_name": "LayoutModel",
            "justify_items": null,
            "grid_row": null,
            "max_height": null,
            "align_content": null,
            "visibility": null,
            "align_self": null,
            "height": null,
            "min_height": null,
            "padding": null,
            "grid_auto_rows": null,
            "grid_gap": null,
            "max_width": null,
            "order": null,
            "_view_module_version": "1.2.0",
            "grid_template_areas": null,
            "object_position": null,
            "object_fit": null,
            "grid_auto_columns": null,
            "margin": null,
            "display": null,
            "left": null
          }
        },
        "5acf5255da7f44ddaf15085fb3d73527": {
          "model_module": "@jupyter-widgets/controls",
          "model_name": "DescriptionStyleModel",
          "state": {
            "_view_name": "StyleView",
            "_model_name": "DescriptionStyleModel",
            "description_width": "",
            "_view_module": "@jupyter-widgets/base",
            "_model_module_version": "1.5.0",
            "_view_count": null,
            "_view_module_version": "1.2.0",
            "_model_module": "@jupyter-widgets/controls"
          }
        },
        "b67c5861bad34479af402ba09854f28d": {
          "model_module": "@jupyter-widgets/base",
          "model_name": "LayoutModel",
          "state": {
            "_view_name": "LayoutView",
            "grid_template_rows": null,
            "right": null,
            "justify_content": null,
            "_view_module": "@jupyter-widgets/base",
            "overflow": null,
            "_model_module_version": "1.2.0",
            "_view_count": null,
            "flex_flow": null,
            "width": null,
            "min_width": null,
            "border": null,
            "align_items": null,
            "bottom": null,
            "_model_module": "@jupyter-widgets/base",
            "top": null,
            "grid_column": null,
            "overflow_y": null,
            "overflow_x": null,
            "grid_auto_flow": null,
            "grid_area": null,
            "grid_template_columns": null,
            "flex": null,
            "_model_name": "LayoutModel",
            "justify_items": null,
            "grid_row": null,
            "max_height": null,
            "align_content": null,
            "visibility": null,
            "align_self": null,
            "height": null,
            "min_height": null,
            "padding": null,
            "grid_auto_rows": null,
            "grid_gap": null,
            "max_width": null,
            "order": null,
            "_view_module_version": "1.2.0",
            "grid_template_areas": null,
            "object_position": null,
            "object_fit": null,
            "grid_auto_columns": null,
            "margin": null,
            "display": null,
            "left": null
          }
        },
        "e9a48d0f84b84c3ebebbfbc6aa1af35d": {
          "model_module": "@jupyter-widgets/controls",
          "model_name": "HBoxModel",
          "state": {
            "_view_name": "HBoxView",
            "_dom_classes": [],
            "_model_name": "HBoxModel",
            "_view_module": "@jupyter-widgets/controls",
            "_model_module_version": "1.5.0",
            "_view_count": null,
            "_view_module_version": "1.5.0",
            "box_style": "",
            "layout": "IPY_MODEL_c686f08183e3465889f8135cf0f475fb",
            "_model_module": "@jupyter-widgets/controls",
            "children": [
              "IPY_MODEL_1e0d362ede954ea388d46cbcbfa9e3de",
              "IPY_MODEL_79097bece41e490d9cf4b1d46dfff815"
            ]
          }
        },
        "c686f08183e3465889f8135cf0f475fb": {
          "model_module": "@jupyter-widgets/base",
          "model_name": "LayoutModel",
          "state": {
            "_view_name": "LayoutView",
            "grid_template_rows": null,
            "right": null,
            "justify_content": null,
            "_view_module": "@jupyter-widgets/base",
            "overflow": null,
            "_model_module_version": "1.2.0",
            "_view_count": null,
            "flex_flow": null,
            "width": null,
            "min_width": null,
            "border": null,
            "align_items": null,
            "bottom": null,
            "_model_module": "@jupyter-widgets/base",
            "top": null,
            "grid_column": null,
            "overflow_y": null,
            "overflow_x": null,
            "grid_auto_flow": null,
            "grid_area": null,
            "grid_template_columns": null,
            "flex": null,
            "_model_name": "LayoutModel",
            "justify_items": null,
            "grid_row": null,
            "max_height": null,
            "align_content": null,
            "visibility": null,
            "align_self": null,
            "height": null,
            "min_height": null,
            "padding": null,
            "grid_auto_rows": null,
            "grid_gap": null,
            "max_width": null,
            "order": null,
            "_view_module_version": "1.2.0",
            "grid_template_areas": null,
            "object_position": null,
            "object_fit": null,
            "grid_auto_columns": null,
            "margin": null,
            "display": null,
            "left": null
          }
        },
        "1e0d362ede954ea388d46cbcbfa9e3de": {
          "model_module": "@jupyter-widgets/controls",
          "model_name": "FloatProgressModel",
          "state": {
            "_view_name": "ProgressView",
            "style": "IPY_MODEL_061ca594da464914ab6279e89f29e7a7",
            "_dom_classes": [],
            "description": "100%",
            "_model_name": "FloatProgressModel",
            "bar_style": "success",
            "max": 16042,
            "_view_module": "@jupyter-widgets/controls",
            "_model_module_version": "1.5.0",
            "value": 16042,
            "_view_count": null,
            "_view_module_version": "1.5.0",
            "orientation": "horizontal",
            "min": 0,
            "description_tooltip": null,
            "_model_module": "@jupyter-widgets/controls",
            "layout": "IPY_MODEL_72a8965695234da68b1e3092cf774bc4"
          }
        },
        "79097bece41e490d9cf4b1d46dfff815": {
          "model_module": "@jupyter-widgets/controls",
          "model_name": "HTMLModel",
          "state": {
            "_view_name": "HTMLView",
            "style": "IPY_MODEL_a7acb103021d4e3d88f0af7549665f87",
            "_dom_classes": [],
            "description": "",
            "_model_name": "HTMLModel",
            "placeholder": "​",
            "_view_module": "@jupyter-widgets/controls",
            "_model_module_version": "1.5.0",
            "value": " 16042/16042 [00:08&lt;00:00, 1925.05it/s]",
            "_view_count": null,
            "_view_module_version": "1.5.0",
            "description_tooltip": null,
            "_model_module": "@jupyter-widgets/controls",
            "layout": "IPY_MODEL_5e201058e47e467e8d3ade1b6efe103c"
          }
        },
        "061ca594da464914ab6279e89f29e7a7": {
          "model_module": "@jupyter-widgets/controls",
          "model_name": "ProgressStyleModel",
          "state": {
            "_view_name": "StyleView",
            "_model_name": "ProgressStyleModel",
            "description_width": "initial",
            "_view_module": "@jupyter-widgets/base",
            "_model_module_version": "1.5.0",
            "_view_count": null,
            "_view_module_version": "1.2.0",
            "bar_color": null,
            "_model_module": "@jupyter-widgets/controls"
          }
        },
        "72a8965695234da68b1e3092cf774bc4": {
          "model_module": "@jupyter-widgets/base",
          "model_name": "LayoutModel",
          "state": {
            "_view_name": "LayoutView",
            "grid_template_rows": null,
            "right": null,
            "justify_content": null,
            "_view_module": "@jupyter-widgets/base",
            "overflow": null,
            "_model_module_version": "1.2.0",
            "_view_count": null,
            "flex_flow": null,
            "width": null,
            "min_width": null,
            "border": null,
            "align_items": null,
            "bottom": null,
            "_model_module": "@jupyter-widgets/base",
            "top": null,
            "grid_column": null,
            "overflow_y": null,
            "overflow_x": null,
            "grid_auto_flow": null,
            "grid_area": null,
            "grid_template_columns": null,
            "flex": null,
            "_model_name": "LayoutModel",
            "justify_items": null,
            "grid_row": null,
            "max_height": null,
            "align_content": null,
            "visibility": null,
            "align_self": null,
            "height": null,
            "min_height": null,
            "padding": null,
            "grid_auto_rows": null,
            "grid_gap": null,
            "max_width": null,
            "order": null,
            "_view_module_version": "1.2.0",
            "grid_template_areas": null,
            "object_position": null,
            "object_fit": null,
            "grid_auto_columns": null,
            "margin": null,
            "display": null,
            "left": null
          }
        },
        "a7acb103021d4e3d88f0af7549665f87": {
          "model_module": "@jupyter-widgets/controls",
          "model_name": "DescriptionStyleModel",
          "state": {
            "_view_name": "StyleView",
            "_model_name": "DescriptionStyleModel",
            "description_width": "",
            "_view_module": "@jupyter-widgets/base",
            "_model_module_version": "1.5.0",
            "_view_count": null,
            "_view_module_version": "1.2.0",
            "_model_module": "@jupyter-widgets/controls"
          }
        },
        "5e201058e47e467e8d3ade1b6efe103c": {
          "model_module": "@jupyter-widgets/base",
          "model_name": "LayoutModel",
          "state": {
            "_view_name": "LayoutView",
            "grid_template_rows": null,
            "right": null,
            "justify_content": null,
            "_view_module": "@jupyter-widgets/base",
            "overflow": null,
            "_model_module_version": "1.2.0",
            "_view_count": null,
            "flex_flow": null,
            "width": null,
            "min_width": null,
            "border": null,
            "align_items": null,
            "bottom": null,
            "_model_module": "@jupyter-widgets/base",
            "top": null,
            "grid_column": null,
            "overflow_y": null,
            "overflow_x": null,
            "grid_auto_flow": null,
            "grid_area": null,
            "grid_template_columns": null,
            "flex": null,
            "_model_name": "LayoutModel",
            "justify_items": null,
            "grid_row": null,
            "max_height": null,
            "align_content": null,
            "visibility": null,
            "align_self": null,
            "height": null,
            "min_height": null,
            "padding": null,
            "grid_auto_rows": null,
            "grid_gap": null,
            "max_width": null,
            "order": null,
            "_view_module_version": "1.2.0",
            "grid_template_areas": null,
            "object_position": null,
            "object_fit": null,
            "grid_auto_columns": null,
            "margin": null,
            "display": null,
            "left": null
          }
        }
      }
    }
  },
  "cells": [
    {
      "cell_type": "code",
      "metadata": {
        "colab": {
          "base_uri": "https://localhost:8080/"
        },
        "id": "rN9q2ZBwComP",
        "outputId": "42fe1522-c7c4-4470-9b01-8cd3d5282180"
      },
      "source": [
        "from google.colab import drive\n",
        "drive.mount('/content/drive')"
      ],
      "execution_count": 1,
      "outputs": [
        {
          "output_type": "stream",
          "text": [
            "Mounted at /content/drive\n"
          ],
          "name": "stdout"
        }
      ]
    },
    {
      "cell_type": "code",
      "metadata": {
        "id": "lYOOsTz2ChCv"
      },
      "source": [
        "import joblib\n",
        "import pandas as pd\n",
        "import numpy as np\n",
        "import os\n",
        "from sklearn.metrics.pairwise import cosine_similarity\n",
        "import time\n",
        "os.chdir('/content/drive/MyDrive/product_recommendation')"
      ],
      "execution_count": 2,
      "outputs": []
    },
    {
      "cell_type": "code",
      "metadata": {
        "colab": {
          "base_uri": "https://localhost:8080/"
        },
        "id": "SZWEivU0C6EA",
        "outputId": "fdee3c3c-9559-4cdb-debd-e3eaf56646e3"
      },
      "source": [
        "!ls"
      ],
      "execution_count": 3,
      "outputs": [
        {
          "output_type": "stream",
          "text": [
            "aaic_task_data.csv  create_db.ipynb  glove_840B_300d  my_data.db  pickle_files\n"
          ],
          "name": "stdout"
        }
      ]
    },
    {
      "cell_type": "code",
      "metadata": {
        "id": "Aej8ja1SChC6"
      },
      "source": [
        "df = joblib.load('16k_apperal_data_preprocessed')"
      ],
      "execution_count": null,
      "outputs": []
    },
    {
      "cell_type": "code",
      "metadata": {
        "id": "GWlvWfj6ChC7",
        "outputId": "c563728d-2832-498e-ce52-16d3aaa13e25"
      },
      "source": [
        "df"
      ],
      "execution_count": null,
      "outputs": [
        {
          "output_type": "execute_result",
          "data": {
            "text/html": [
              "<div>\n",
              "<style scoped>\n",
              "    .dataframe tbody tr th:only-of-type {\n",
              "        vertical-align: middle;\n",
              "    }\n",
              "\n",
              "    .dataframe tbody tr th {\n",
              "        vertical-align: top;\n",
              "    }\n",
              "\n",
              "    .dataframe thead th {\n",
              "        text-align: right;\n",
              "    }\n",
              "</style>\n",
              "<table border=\"1\" class=\"dataframe\">\n",
              "  <thead>\n",
              "    <tr style=\"text-align: right;\">\n",
              "      <th></th>\n",
              "      <th>asin</th>\n",
              "      <th>brand</th>\n",
              "      <th>color</th>\n",
              "      <th>medium_image_url</th>\n",
              "      <th>product_type_name</th>\n",
              "      <th>title</th>\n",
              "      <th>formatted_price</th>\n",
              "    </tr>\n",
              "  </thead>\n",
              "  <tbody>\n",
              "    <tr>\n",
              "      <th>4</th>\n",
              "      <td>B004GSI2OS</td>\n",
              "      <td>FeatherLite</td>\n",
              "      <td>Onyx Black/ Stone</td>\n",
              "      <td>https://images-na.ssl-images-amazon.com/images...</td>\n",
              "      <td>SHIRT</td>\n",
              "      <td>featherlite ladies long sleeve stain resistant...</td>\n",
              "      <td>$26.26</td>\n",
              "    </tr>\n",
              "    <tr>\n",
              "      <th>6</th>\n",
              "      <td>B012YX2ZPI</td>\n",
              "      <td>HX-Kingdom Fashion T-shirts</td>\n",
              "      <td>White</td>\n",
              "      <td>https://images-na.ssl-images-amazon.com/images...</td>\n",
              "      <td>SHIRT</td>\n",
              "      <td>womens unique 100 cotton  special olympics wor...</td>\n",
              "      <td>$9.99</td>\n",
              "    </tr>\n",
              "    <tr>\n",
              "      <th>15</th>\n",
              "      <td>B003BSRPB0</td>\n",
              "      <td>FeatherLite</td>\n",
              "      <td>White</td>\n",
              "      <td>https://images-na.ssl-images-amazon.com/images...</td>\n",
              "      <td>SHIRT</td>\n",
              "      <td>featherlite ladies moisture free mesh sport sh...</td>\n",
              "      <td>$20.54</td>\n",
              "    </tr>\n",
              "    <tr>\n",
              "      <th>27</th>\n",
              "      <td>B014ICEJ1Q</td>\n",
              "      <td>FNC7C</td>\n",
              "      <td>Purple</td>\n",
              "      <td>https://images-na.ssl-images-amazon.com/images...</td>\n",
              "      <td>SHIRT</td>\n",
              "      <td>supernatural chibis sam dean castiel neck tshi...</td>\n",
              "      <td>$7.39</td>\n",
              "    </tr>\n",
              "    <tr>\n",
              "      <th>46</th>\n",
              "      <td>B01NACPBG2</td>\n",
              "      <td>Fifth Degree</td>\n",
              "      <td>Black</td>\n",
              "      <td>https://images-na.ssl-images-amazon.com/images...</td>\n",
              "      <td>SHIRT</td>\n",
              "      <td>fifth degree womens gold foil graphic tees jun...</td>\n",
              "      <td>$6.95</td>\n",
              "    </tr>\n",
              "    <tr>\n",
              "      <th>...</th>\n",
              "      <td>...</td>\n",
              "      <td>...</td>\n",
              "      <td>...</td>\n",
              "      <td>...</td>\n",
              "      <td>...</td>\n",
              "      <td>...</td>\n",
              "      <td>...</td>\n",
              "    </tr>\n",
              "    <tr>\n",
              "      <th>183081</th>\n",
              "      <td>B01MRV2IFS</td>\n",
              "      <td>YueLian</td>\n",
              "      <td>Black</td>\n",
              "      <td>https://images-na.ssl-images-amazon.com/images...</td>\n",
              "      <td>SHIRT</td>\n",
              "      <td>yuelian womens chiffon short sleeves sun prote...</td>\n",
              "      <td>$19.25</td>\n",
              "    </tr>\n",
              "    <tr>\n",
              "      <th>183092</th>\n",
              "      <td>B01LY4QWLF</td>\n",
              "      <td>Vintage America</td>\n",
              "      <td>White</td>\n",
              "      <td>https://images-na.ssl-images-amazon.com/images...</td>\n",
              "      <td>SHIRT</td>\n",
              "      <td>vintage america womens large lace collared blo...</td>\n",
              "      <td>$23.24</td>\n",
              "    </tr>\n",
              "    <tr>\n",
              "      <th>183096</th>\n",
              "      <td>B07167SCNH</td>\n",
              "      <td>Tart Collections</td>\n",
              "      <td>Black</td>\n",
              "      <td>https://images-na.ssl-images-amazon.com/images...</td>\n",
              "      <td>SHIRT</td>\n",
              "      <td>tart womens collections ann wrap top xs black</td>\n",
              "      <td>$29.99</td>\n",
              "    </tr>\n",
              "    <tr>\n",
              "      <th>183101</th>\n",
              "      <td>B07575N2WX</td>\n",
              "      <td>Soprano</td>\n",
              "      <td>Gray</td>\n",
              "      <td>https://images-na.ssl-images-amazon.com/images...</td>\n",
              "      <td>SHIRT</td>\n",
              "      <td>soprano womens small tiefringe slubknit tank t...</td>\n",
              "      <td>$22.83</td>\n",
              "    </tr>\n",
              "    <tr>\n",
              "      <th>183120</th>\n",
              "      <td>B01NCO06S0</td>\n",
              "      <td>Faded Glory</td>\n",
              "      <td>Blue/Grey</td>\n",
              "      <td>https://images-na.ssl-images-amazon.com/images...</td>\n",
              "      <td>SHIRT</td>\n",
              "      <td>faded glory womens plaid button 2 pocket shirt...</td>\n",
              "      <td>$18.99</td>\n",
              "    </tr>\n",
              "  </tbody>\n",
              "</table>\n",
              "<p>16042 rows × 7 columns</p>\n",
              "</div>"
            ],
            "text/plain": [
              "              asin                        brand              color  \\\n",
              "4       B004GSI2OS                  FeatherLite  Onyx Black/ Stone   \n",
              "6       B012YX2ZPI  HX-Kingdom Fashion T-shirts              White   \n",
              "15      B003BSRPB0                  FeatherLite              White   \n",
              "27      B014ICEJ1Q                        FNC7C             Purple   \n",
              "46      B01NACPBG2                 Fifth Degree              Black   \n",
              "...            ...                          ...                ...   \n",
              "183081  B01MRV2IFS                      YueLian              Black   \n",
              "183092  B01LY4QWLF              Vintage America              White   \n",
              "183096  B07167SCNH             Tart Collections              Black   \n",
              "183101  B07575N2WX                      Soprano               Gray   \n",
              "183120  B01NCO06S0                  Faded Glory          Blue/Grey   \n",
              "\n",
              "                                         medium_image_url product_type_name  \\\n",
              "4       https://images-na.ssl-images-amazon.com/images...             SHIRT   \n",
              "6       https://images-na.ssl-images-amazon.com/images...             SHIRT   \n",
              "15      https://images-na.ssl-images-amazon.com/images...             SHIRT   \n",
              "27      https://images-na.ssl-images-amazon.com/images...             SHIRT   \n",
              "46      https://images-na.ssl-images-amazon.com/images...             SHIRT   \n",
              "...                                                   ...               ...   \n",
              "183081  https://images-na.ssl-images-amazon.com/images...             SHIRT   \n",
              "183092  https://images-na.ssl-images-amazon.com/images...             SHIRT   \n",
              "183096  https://images-na.ssl-images-amazon.com/images...             SHIRT   \n",
              "183101  https://images-na.ssl-images-amazon.com/images...             SHIRT   \n",
              "183120  https://images-na.ssl-images-amazon.com/images...             SHIRT   \n",
              "\n",
              "                                                    title formatted_price  \n",
              "4       featherlite ladies long sleeve stain resistant...          $26.26  \n",
              "6       womens unique 100 cotton  special olympics wor...           $9.99  \n",
              "15      featherlite ladies moisture free mesh sport sh...          $20.54  \n",
              "27      supernatural chibis sam dean castiel neck tshi...           $7.39  \n",
              "46      fifth degree womens gold foil graphic tees jun...           $6.95  \n",
              "...                                                   ...             ...  \n",
              "183081  yuelian womens chiffon short sleeves sun prote...          $19.25  \n",
              "183092  vintage america womens large lace collared blo...          $23.24  \n",
              "183096     tart womens collections ann wrap top xs black           $29.99  \n",
              "183101  soprano womens small tiefringe slubknit tank t...          $22.83  \n",
              "183120  faded glory womens plaid button 2 pocket shirt...          $18.99  \n",
              "\n",
              "[16042 rows x 7 columns]"
            ]
          },
          "metadata": {
            "tags": []
          },
          "execution_count": 7
        }
      ]
    },
    {
      "cell_type": "code",
      "metadata": {
        "id": "eexCSpN6ChC_"
      },
      "source": [
        "df['formatted_price'] = df['formatted_price'].str.replace('$','')"
      ],
      "execution_count": null,
      "outputs": []
    },
    {
      "cell_type": "code",
      "metadata": {
        "id": "IvetnHHqChDA"
      },
      "source": [
        "df['formatted_price'] = df['formatted_price'].str.strip()"
      ],
      "execution_count": null,
      "outputs": []
    },
    {
      "cell_type": "code",
      "metadata": {
        "id": "D_wUraX7ChDA"
      },
      "source": [
        "df['formatted_price'] = df['formatted_price'].apply(pd.to_numeric,errors='coerce')"
      ],
      "execution_count": null,
      "outputs": []
    },
    {
      "cell_type": "code",
      "metadata": {
        "id": "X6e4FBSbChDB",
        "outputId": "24b14883-6f1c-4937-9dbd-a856be5e50be"
      },
      "source": [
        "df.dtypes"
      ],
      "execution_count": null,
      "outputs": [
        {
          "output_type": "execute_result",
          "data": {
            "text/plain": [
              "asin                  object\n",
              "brand                 object\n",
              "color                 object\n",
              "medium_image_url      object\n",
              "product_type_name     object\n",
              "title                 object\n",
              "formatted_price      float64\n",
              "dtype: object"
            ]
          },
          "metadata": {
            "tags": []
          },
          "execution_count": 68
        }
      ]
    },
    {
      "cell_type": "code",
      "metadata": {
        "id": "gBNBVCzHChDC"
      },
      "source": [
        "df.to_csv('aaic_task_data.csv',index=False)"
      ],
      "execution_count": null,
      "outputs": []
    },
    {
      "cell_type": "code",
      "metadata": {
        "colab": {
          "base_uri": "https://localhost:8080/",
          "height": 1000
        },
        "id": "BA_a0agCChDC",
        "outputId": "357f4712-dc77-490b-c09b-6dd8c0788df3"
      },
      "source": [
        "dff = pd.read_csv('aaic_task_data.csv')\n",
        "dff"
      ],
      "execution_count": 5,
      "outputs": [
        {
          "output_type": "execute_result",
          "data": {
            "text/html": [
              "<div>\n",
              "<style scoped>\n",
              "    .dataframe tbody tr th:only-of-type {\n",
              "        vertical-align: middle;\n",
              "    }\n",
              "\n",
              "    .dataframe tbody tr th {\n",
              "        vertical-align: top;\n",
              "    }\n",
              "\n",
              "    .dataframe thead th {\n",
              "        text-align: right;\n",
              "    }\n",
              "</style>\n",
              "<table border=\"1\" class=\"dataframe\">\n",
              "  <thead>\n",
              "    <tr style=\"text-align: right;\">\n",
              "      <th></th>\n",
              "      <th>asin</th>\n",
              "      <th>brand</th>\n",
              "      <th>color</th>\n",
              "      <th>medium_image_url</th>\n",
              "      <th>product_type_name</th>\n",
              "      <th>title</th>\n",
              "      <th>formatted_price</th>\n",
              "    </tr>\n",
              "  </thead>\n",
              "  <tbody>\n",
              "    <tr>\n",
              "      <th>0</th>\n",
              "      <td>B004GSI2OS</td>\n",
              "      <td>FeatherLite</td>\n",
              "      <td>Onyx Black/ Stone</td>\n",
              "      <td>https://images-na.ssl-images-amazon.com/images...</td>\n",
              "      <td>SHIRT</td>\n",
              "      <td>featherlite ladies long sleeve stain resistant...</td>\n",
              "      <td>26.26</td>\n",
              "    </tr>\n",
              "    <tr>\n",
              "      <th>1</th>\n",
              "      <td>B012YX2ZPI</td>\n",
              "      <td>HX-Kingdom Fashion T-shirts</td>\n",
              "      <td>White</td>\n",
              "      <td>https://images-na.ssl-images-amazon.com/images...</td>\n",
              "      <td>SHIRT</td>\n",
              "      <td>womens unique 100 cotton  special olympics wor...</td>\n",
              "      <td>9.99</td>\n",
              "    </tr>\n",
              "    <tr>\n",
              "      <th>2</th>\n",
              "      <td>B003BSRPB0</td>\n",
              "      <td>FeatherLite</td>\n",
              "      <td>White</td>\n",
              "      <td>https://images-na.ssl-images-amazon.com/images...</td>\n",
              "      <td>SHIRT</td>\n",
              "      <td>featherlite ladies moisture free mesh sport sh...</td>\n",
              "      <td>20.54</td>\n",
              "    </tr>\n",
              "    <tr>\n",
              "      <th>3</th>\n",
              "      <td>B014ICEJ1Q</td>\n",
              "      <td>FNC7C</td>\n",
              "      <td>Purple</td>\n",
              "      <td>https://images-na.ssl-images-amazon.com/images...</td>\n",
              "      <td>SHIRT</td>\n",
              "      <td>supernatural chibis sam dean castiel neck tshi...</td>\n",
              "      <td>7.39</td>\n",
              "    </tr>\n",
              "    <tr>\n",
              "      <th>4</th>\n",
              "      <td>B01NACPBG2</td>\n",
              "      <td>Fifth Degree</td>\n",
              "      <td>Black</td>\n",
              "      <td>https://images-na.ssl-images-amazon.com/images...</td>\n",
              "      <td>SHIRT</td>\n",
              "      <td>fifth degree womens gold foil graphic tees jun...</td>\n",
              "      <td>6.95</td>\n",
              "    </tr>\n",
              "    <tr>\n",
              "      <th>...</th>\n",
              "      <td>...</td>\n",
              "      <td>...</td>\n",
              "      <td>...</td>\n",
              "      <td>...</td>\n",
              "      <td>...</td>\n",
              "      <td>...</td>\n",
              "      <td>...</td>\n",
              "    </tr>\n",
              "    <tr>\n",
              "      <th>16037</th>\n",
              "      <td>B01MRV2IFS</td>\n",
              "      <td>YueLian</td>\n",
              "      <td>Black</td>\n",
              "      <td>https://images-na.ssl-images-amazon.com/images...</td>\n",
              "      <td>SHIRT</td>\n",
              "      <td>yuelian womens chiffon short sleeves sun prote...</td>\n",
              "      <td>19.25</td>\n",
              "    </tr>\n",
              "    <tr>\n",
              "      <th>16038</th>\n",
              "      <td>B01LY4QWLF</td>\n",
              "      <td>Vintage America</td>\n",
              "      <td>White</td>\n",
              "      <td>https://images-na.ssl-images-amazon.com/images...</td>\n",
              "      <td>SHIRT</td>\n",
              "      <td>vintage america womens large lace collared blo...</td>\n",
              "      <td>23.24</td>\n",
              "    </tr>\n",
              "    <tr>\n",
              "      <th>16039</th>\n",
              "      <td>B07167SCNH</td>\n",
              "      <td>Tart Collections</td>\n",
              "      <td>Black</td>\n",
              "      <td>https://images-na.ssl-images-amazon.com/images...</td>\n",
              "      <td>SHIRT</td>\n",
              "      <td>tart womens collections ann wrap top xs black</td>\n",
              "      <td>29.99</td>\n",
              "    </tr>\n",
              "    <tr>\n",
              "      <th>16040</th>\n",
              "      <td>B07575N2WX</td>\n",
              "      <td>Soprano</td>\n",
              "      <td>Gray</td>\n",
              "      <td>https://images-na.ssl-images-amazon.com/images...</td>\n",
              "      <td>SHIRT</td>\n",
              "      <td>soprano womens small tiefringe slubknit tank t...</td>\n",
              "      <td>22.83</td>\n",
              "    </tr>\n",
              "    <tr>\n",
              "      <th>16041</th>\n",
              "      <td>B01NCO06S0</td>\n",
              "      <td>Faded Glory</td>\n",
              "      <td>Blue/Grey</td>\n",
              "      <td>https://images-na.ssl-images-amazon.com/images...</td>\n",
              "      <td>SHIRT</td>\n",
              "      <td>faded glory womens plaid button 2 pocket shirt...</td>\n",
              "      <td>18.99</td>\n",
              "    </tr>\n",
              "  </tbody>\n",
              "</table>\n",
              "<p>16042 rows × 7 columns</p>\n",
              "</div>"
            ],
            "text/plain": [
              "             asin  ... formatted_price\n",
              "0      B004GSI2OS  ...           26.26\n",
              "1      B012YX2ZPI  ...            9.99\n",
              "2      B003BSRPB0  ...           20.54\n",
              "3      B014ICEJ1Q  ...            7.39\n",
              "4      B01NACPBG2  ...            6.95\n",
              "...           ...  ...             ...\n",
              "16037  B01MRV2IFS  ...           19.25\n",
              "16038  B01LY4QWLF  ...           23.24\n",
              "16039  B07167SCNH  ...           29.99\n",
              "16040  B07575N2WX  ...           22.83\n",
              "16041  B01NCO06S0  ...           18.99\n",
              "\n",
              "[16042 rows x 7 columns]"
            ]
          },
          "metadata": {
            "tags": []
          },
          "execution_count": 5
        }
      ]
    },
    {
      "cell_type": "code",
      "metadata": {
        "id": "_eZkA5jfChDD",
        "outputId": "875e4a98-7b75-4c6e-e71b-1c415439a690"
      },
      "source": [
        "dff['product_type_name'].value_counts()"
      ],
      "execution_count": null,
      "outputs": [
        {
          "output_type": "execute_result",
          "data": {
            "text/plain": [
              "SHIRT                               12827\n",
              "BOOKS_1973_AND_LATER                 1334\n",
              "APPAREL                               620\n",
              "ACCESSORY                             302\n",
              "SPORTING_GOODS                        194\n",
              "DRESS                                 141\n",
              "BLAZER                                 93\n",
              "SWEATER                                79\n",
              "OUTERWEAR                              69\n",
              "OUTDOOR_RECREATION_PRODUCT             53\n",
              "UNDERWEAR                              35\n",
              "SLEEPWEAR                              34\n",
              "MISC_OTHER                             33\n",
              "HEALTH_PERSONAL_CARE                   33\n",
              "PANTS                                  22\n",
              "SKIRT                                  20\n",
              "AUTO_ACCESSORY                         20\n",
              "TOYS_AND_GAMES                         20\n",
              "ETHNIC_WEAR                            16\n",
              "HANDBAG                                 9\n",
              "POWERSPORTS_PROTECTIVE_GEAR             9\n",
              "BRA                                     8\n",
              "BEAUTY                                  6\n",
              "SHOES                                   6\n",
              "HOME                                    6\n",
              "HAT                                     5\n",
              "ADULT_COSTUME                           5\n",
              "TOOLS                                   4\n",
              "OFFICE_PRODUCTS                         4\n",
              "OUTDOOR_LIVING                          3\n",
              "POWERSPORTS_VEHICLE_PART                2\n",
              "SOUND_AND_RECORDING_EQUIPMENT           2\n",
              "SAFETY_SUPPLY                           2\n",
              "BABY_COSTUME                            2\n",
              "MECHANICAL_COMPONENTS                   2\n",
              "LUGGAGE                                 2\n",
              "SUIT                                    2\n",
              "HARDWARE                                1\n",
              "SHORTS                                  1\n",
              "AUTO_PART                               1\n",
              "JEWELRY                                 1\n",
              "INSTRUMENT_PARTS_AND_ACCESSORIES        1\n",
              "ABIS_APPAREL                            1\n",
              "POWERSPORTS_RIDING_SHIRT                1\n",
              "BUILDING_MATERIAL                       1\n",
              "GOLF_CLUB                               1\n",
              "GUILD_ACCESSORIES                       1\n",
              "BABY_PRODUCT                            1\n",
              "MUSIC_POPULAR_VINYL                     1\n",
              "BAG                                     1\n",
              "SHIRTS                                  1\n",
              "EYEWEAR                                 1\n",
              "VIDEO_DVD                               1\n",
              "PET_SUPPLIES                            1\n",
              "POWERSPORTS_RIDING_JACKET               1\n",
              "Name: product_type_name, dtype: int64"
            ]
          },
          "metadata": {
            "tags": []
          },
          "execution_count": 52
        }
      ]
    },
    {
      "cell_type": "code",
      "metadata": {
        "id": "ih289rQeChDE"
      },
      "source": [
        "import sqlite3\n",
        "conn = sqlite3.connect('my_data.db')\n",
        "c = conn.cursor()"
      ],
      "execution_count": null,
      "outputs": []
    },
    {
      "cell_type": "code",
      "metadata": {
        "id": "47xWFJ8QChDE",
        "outputId": "32678f7a-6be4-4dc0-d394-1322adf49b15"
      },
      "source": [
        "c.execute('''DROP TABLE IF EXISTS aaic;''')\n",
        "\n",
        "c.execute('''CREATE TABLE aaic(\n",
        "    id INTEGER PRIMARY KEY,\n",
        "    asin VARCHAR(15),\n",
        "    brand VARCHAR(100),\n",
        "    color VARCHAR(20),\n",
        "    medium_image_url TEXT,\n",
        "    product_type_name VARCHAR(20),\n",
        "    title TEXT,\n",
        "    formatted_price VARCHAR(5));''')"
      ],
      "execution_count": null,
      "outputs": [
        {
          "output_type": "execute_result",
          "data": {
            "text/plain": [
              "<sqlite3.Cursor at 0x7f5bc7076a40>"
            ]
          },
          "metadata": {
            "tags": []
          },
          "execution_count": 77
        }
      ]
    },
    {
      "cell_type": "code",
      "metadata": {
        "id": "XEa9IoBtChDF"
      },
      "source": [
        "dff.to_sql('aaic', conn, if_exists='append', index = False)"
      ],
      "execution_count": null,
      "outputs": []
    },
    {
      "cell_type": "code",
      "metadata": {
        "id": "KBph-xneChDG",
        "outputId": "7e2ae71c-ad6e-4eee-fedc-2d922f1d5d67"
      },
      "source": [
        "pd.read_sql('''SELECT * FROM aaic ''', conn)"
      ],
      "execution_count": null,
      "outputs": [
        {
          "output_type": "execute_result",
          "data": {
            "text/html": [
              "<div>\n",
              "<style scoped>\n",
              "    .dataframe tbody tr th:only-of-type {\n",
              "        vertical-align: middle;\n",
              "    }\n",
              "\n",
              "    .dataframe tbody tr th {\n",
              "        vertical-align: top;\n",
              "    }\n",
              "\n",
              "    .dataframe thead th {\n",
              "        text-align: right;\n",
              "    }\n",
              "</style>\n",
              "<table border=\"1\" class=\"dataframe\">\n",
              "  <thead>\n",
              "    <tr style=\"text-align: right;\">\n",
              "      <th></th>\n",
              "      <th>id</th>\n",
              "      <th>asin</th>\n",
              "      <th>brand</th>\n",
              "      <th>color</th>\n",
              "      <th>medium_image_url</th>\n",
              "      <th>product_type_name</th>\n",
              "      <th>title</th>\n",
              "      <th>formatted_price</th>\n",
              "    </tr>\n",
              "  </thead>\n",
              "  <tbody>\n",
              "    <tr>\n",
              "      <th>0</th>\n",
              "      <td>1</td>\n",
              "      <td>B004GSI2OS</td>\n",
              "      <td>FeatherLite</td>\n",
              "      <td>Onyx Black/ Stone</td>\n",
              "      <td>https://images-na.ssl-images-amazon.com/images...</td>\n",
              "      <td>SHIRT</td>\n",
              "      <td>featherlite ladies long sleeve stain resistant...</td>\n",
              "      <td>26.26</td>\n",
              "    </tr>\n",
              "    <tr>\n",
              "      <th>1</th>\n",
              "      <td>2</td>\n",
              "      <td>B012YX2ZPI</td>\n",
              "      <td>HX-Kingdom Fashion T-shirts</td>\n",
              "      <td>White</td>\n",
              "      <td>https://images-na.ssl-images-amazon.com/images...</td>\n",
              "      <td>SHIRT</td>\n",
              "      <td>womens unique 100 cotton  special olympics wor...</td>\n",
              "      <td>9.99</td>\n",
              "    </tr>\n",
              "    <tr>\n",
              "      <th>2</th>\n",
              "      <td>3</td>\n",
              "      <td>B003BSRPB0</td>\n",
              "      <td>FeatherLite</td>\n",
              "      <td>White</td>\n",
              "      <td>https://images-na.ssl-images-amazon.com/images...</td>\n",
              "      <td>SHIRT</td>\n",
              "      <td>featherlite ladies moisture free mesh sport sh...</td>\n",
              "      <td>20.54</td>\n",
              "    </tr>\n",
              "    <tr>\n",
              "      <th>3</th>\n",
              "      <td>4</td>\n",
              "      <td>B014ICEJ1Q</td>\n",
              "      <td>FNC7C</td>\n",
              "      <td>Purple</td>\n",
              "      <td>https://images-na.ssl-images-amazon.com/images...</td>\n",
              "      <td>SHIRT</td>\n",
              "      <td>supernatural chibis sam dean castiel neck tshi...</td>\n",
              "      <td>7.39</td>\n",
              "    </tr>\n",
              "    <tr>\n",
              "      <th>4</th>\n",
              "      <td>5</td>\n",
              "      <td>B01NACPBG2</td>\n",
              "      <td>Fifth Degree</td>\n",
              "      <td>Black</td>\n",
              "      <td>https://images-na.ssl-images-amazon.com/images...</td>\n",
              "      <td>SHIRT</td>\n",
              "      <td>fifth degree womens gold foil graphic tees jun...</td>\n",
              "      <td>6.95</td>\n",
              "    </tr>\n",
              "    <tr>\n",
              "      <th>...</th>\n",
              "      <td>...</td>\n",
              "      <td>...</td>\n",
              "      <td>...</td>\n",
              "      <td>...</td>\n",
              "      <td>...</td>\n",
              "      <td>...</td>\n",
              "      <td>...</td>\n",
              "      <td>...</td>\n",
              "    </tr>\n",
              "    <tr>\n",
              "      <th>16037</th>\n",
              "      <td>16038</td>\n",
              "      <td>B01MRV2IFS</td>\n",
              "      <td>YueLian</td>\n",
              "      <td>Black</td>\n",
              "      <td>https://images-na.ssl-images-amazon.com/images...</td>\n",
              "      <td>SHIRT</td>\n",
              "      <td>yuelian womens chiffon short sleeves sun prote...</td>\n",
              "      <td>19.25</td>\n",
              "    </tr>\n",
              "    <tr>\n",
              "      <th>16038</th>\n",
              "      <td>16039</td>\n",
              "      <td>B01LY4QWLF</td>\n",
              "      <td>Vintage America</td>\n",
              "      <td>White</td>\n",
              "      <td>https://images-na.ssl-images-amazon.com/images...</td>\n",
              "      <td>SHIRT</td>\n",
              "      <td>vintage america womens large lace collared blo...</td>\n",
              "      <td>23.24</td>\n",
              "    </tr>\n",
              "    <tr>\n",
              "      <th>16039</th>\n",
              "      <td>16040</td>\n",
              "      <td>B07167SCNH</td>\n",
              "      <td>Tart Collections</td>\n",
              "      <td>Black</td>\n",
              "      <td>https://images-na.ssl-images-amazon.com/images...</td>\n",
              "      <td>SHIRT</td>\n",
              "      <td>tart womens collections ann wrap top xs black</td>\n",
              "      <td>29.99</td>\n",
              "    </tr>\n",
              "    <tr>\n",
              "      <th>16040</th>\n",
              "      <td>16041</td>\n",
              "      <td>B07575N2WX</td>\n",
              "      <td>Soprano</td>\n",
              "      <td>Gray</td>\n",
              "      <td>https://images-na.ssl-images-amazon.com/images...</td>\n",
              "      <td>SHIRT</td>\n",
              "      <td>soprano womens small tiefringe slubknit tank t...</td>\n",
              "      <td>22.83</td>\n",
              "    </tr>\n",
              "    <tr>\n",
              "      <th>16041</th>\n",
              "      <td>16042</td>\n",
              "      <td>B01NCO06S0</td>\n",
              "      <td>Faded Glory</td>\n",
              "      <td>Blue/Grey</td>\n",
              "      <td>https://images-na.ssl-images-amazon.com/images...</td>\n",
              "      <td>SHIRT</td>\n",
              "      <td>faded glory womens plaid button 2 pocket shirt...</td>\n",
              "      <td>18.99</td>\n",
              "    </tr>\n",
              "  </tbody>\n",
              "</table>\n",
              "<p>16042 rows × 8 columns</p>\n",
              "</div>"
            ],
            "text/plain": [
              "          id        asin                        brand              color  \\\n",
              "0          1  B004GSI2OS                  FeatherLite  Onyx Black/ Stone   \n",
              "1          2  B012YX2ZPI  HX-Kingdom Fashion T-shirts              White   \n",
              "2          3  B003BSRPB0                  FeatherLite              White   \n",
              "3          4  B014ICEJ1Q                        FNC7C             Purple   \n",
              "4          5  B01NACPBG2                 Fifth Degree              Black   \n",
              "...      ...         ...                          ...                ...   \n",
              "16037  16038  B01MRV2IFS                      YueLian              Black   \n",
              "16038  16039  B01LY4QWLF              Vintage America              White   \n",
              "16039  16040  B07167SCNH             Tart Collections              Black   \n",
              "16040  16041  B07575N2WX                      Soprano               Gray   \n",
              "16041  16042  B01NCO06S0                  Faded Glory          Blue/Grey   \n",
              "\n",
              "                                        medium_image_url product_type_name  \\\n",
              "0      https://images-na.ssl-images-amazon.com/images...             SHIRT   \n",
              "1      https://images-na.ssl-images-amazon.com/images...             SHIRT   \n",
              "2      https://images-na.ssl-images-amazon.com/images...             SHIRT   \n",
              "3      https://images-na.ssl-images-amazon.com/images...             SHIRT   \n",
              "4      https://images-na.ssl-images-amazon.com/images...             SHIRT   \n",
              "...                                                  ...               ...   \n",
              "16037  https://images-na.ssl-images-amazon.com/images...             SHIRT   \n",
              "16038  https://images-na.ssl-images-amazon.com/images...             SHIRT   \n",
              "16039  https://images-na.ssl-images-amazon.com/images...             SHIRT   \n",
              "16040  https://images-na.ssl-images-amazon.com/images...             SHIRT   \n",
              "16041  https://images-na.ssl-images-amazon.com/images...             SHIRT   \n",
              "\n",
              "                                                   title formatted_price  \n",
              "0      featherlite ladies long sleeve stain resistant...           26.26  \n",
              "1      womens unique 100 cotton  special olympics wor...            9.99  \n",
              "2      featherlite ladies moisture free mesh sport sh...           20.54  \n",
              "3      supernatural chibis sam dean castiel neck tshi...            7.39  \n",
              "4      fifth degree womens gold foil graphic tees jun...            6.95  \n",
              "...                                                  ...             ...  \n",
              "16037  yuelian womens chiffon short sleeves sun prote...           19.25  \n",
              "16038  vintage america womens large lace collared blo...           23.24  \n",
              "16039     tart womens collections ann wrap top xs black            29.99  \n",
              "16040  soprano womens small tiefringe slubknit tank t...           22.83  \n",
              "16041  faded glory womens plaid button 2 pocket shirt...           18.99  \n",
              "\n",
              "[16042 rows x 8 columns]"
            ]
          },
          "metadata": {
            "tags": []
          },
          "execution_count": 4
        }
      ]
    },
    {
      "cell_type": "code",
      "metadata": {
        "id": "SJmCl3uWChDH"
      },
      "source": [
        "def get_db_connection():\n",
        "    conn = sqlite3.connect('my_data.db')\n",
        "    conn.row_factory = sqlite3.Row\n",
        "    return conn"
      ],
      "execution_count": null,
      "outputs": []
    },
    {
      "cell_type": "code",
      "metadata": {
        "id": "u5u27SnZChDH"
      },
      "source": [
        "con = get_db_connection()"
      ],
      "execution_count": null,
      "outputs": []
    },
    {
      "cell_type": "code",
      "metadata": {
        "id": "fa9YOAidChDH",
        "outputId": "349aae0a-deff-4c7d-f10f-32712a86b83a"
      },
      "source": [
        "post = con.execute('SELECT * FROM aaic ORDER BY formatted_price DESC LIMIT 20').fetchall()\n",
        "post[0]['asin']"
      ],
      "execution_count": null,
      "outputs": [
        {
          "output_type": "execute_result",
          "data": {
            "text/plain": [
              "'B01IO1GL4U'"
            ]
          },
          "metadata": {
            "tags": []
          },
          "execution_count": 34
        }
      ]
    },
    {
      "cell_type": "code",
      "metadata": {
        "scrolled": true,
        "id": "Lzs8_S5TChDI",
        "outputId": "a8fa03f8-4502-4b9b-d839-03e34f6a8159"
      },
      "source": [
        "pd.read_sql_query('''SELECT * from aaic ORDER BY formatted_price DESC LIMIT 20''',conn)"
      ],
      "execution_count": null,
      "outputs": [
        {
          "output_type": "execute_result",
          "data": {
            "text/html": [
              "<div>\n",
              "<style scoped>\n",
              "    .dataframe tbody tr th:only-of-type {\n",
              "        vertical-align: middle;\n",
              "    }\n",
              "\n",
              "    .dataframe tbody tr th {\n",
              "        vertical-align: top;\n",
              "    }\n",
              "\n",
              "    .dataframe thead th {\n",
              "        text-align: right;\n",
              "    }\n",
              "</style>\n",
              "<table border=\"1\" class=\"dataframe\">\n",
              "  <thead>\n",
              "    <tr style=\"text-align: right;\">\n",
              "      <th></th>\n",
              "      <th>id</th>\n",
              "      <th>asin</th>\n",
              "      <th>brand</th>\n",
              "      <th>color</th>\n",
              "      <th>medium_image_url</th>\n",
              "      <th>product_type_name</th>\n",
              "      <th>title</th>\n",
              "      <th>formatted_price</th>\n",
              "    </tr>\n",
              "  </thead>\n",
              "  <tbody>\n",
              "    <tr>\n",
              "      <th>0</th>\n",
              "      <td>13055</td>\n",
              "      <td>B01IO1GL4U</td>\n",
              "      <td>Brunello Cucinelli</td>\n",
              "      <td>Gray</td>\n",
              "      <td>https://images-na.ssl-images-amazon.com/images...</td>\n",
              "      <td>SHIRT</td>\n",
              "      <td>brunello cucinelli womens gray satin silk blaz...</td>\n",
              "      <td>995.0</td>\n",
              "    </tr>\n",
              "    <tr>\n",
              "      <th>1</th>\n",
              "      <td>1366</td>\n",
              "      <td>B01LBQC1IU</td>\n",
              "      <td>Maison Martin Margiela</td>\n",
              "      <td>Multi-color</td>\n",
              "      <td>https://images-na.ssl-images-amazon.com/images...</td>\n",
              "      <td>SHIRT</td>\n",
              "      <td>maison martin margiela mm6 womens sleeveless b...</td>\n",
              "      <td>99.99</td>\n",
              "    </tr>\n",
              "    <tr>\n",
              "      <th>2</th>\n",
              "      <td>1643</td>\n",
              "      <td>B01L7OJBGG</td>\n",
              "      <td>Maison Martin Margiela</td>\n",
              "      <td>Burgundy</td>\n",
              "      <td>https://images-na.ssl-images-amazon.com/images...</td>\n",
              "      <td>SHIRT</td>\n",
              "      <td>maison martin margiela 1 womens burgundy cap s...</td>\n",
              "      <td>99.99</td>\n",
              "    </tr>\n",
              "    <tr>\n",
              "      <th>3</th>\n",
              "      <td>2051</td>\n",
              "      <td>B01FUYK5QO</td>\n",
              "      <td>Dolce &amp; Gabbana</td>\n",
              "      <td>Black/ivory</td>\n",
              "      <td>https://images-na.ssl-images-amazon.com/images...</td>\n",
              "      <td>SHIRT</td>\n",
              "      <td>dolce  gabbana black ivory striped cotton shor...</td>\n",
              "      <td>99.99</td>\n",
              "    </tr>\n",
              "    <tr>\n",
              "      <th>4</th>\n",
              "      <td>2387</td>\n",
              "      <td>B06XSHXWK5</td>\n",
              "      <td>HUGO BOSS</td>\n",
              "      <td>Multi-color</td>\n",
              "      <td>https://images-na.ssl-images-amazon.com/images...</td>\n",
              "      <td>SHIRT</td>\n",
              "      <td>boss esabia windowpane print twist detail jers...</td>\n",
              "      <td>99.99</td>\n",
              "    </tr>\n",
              "    <tr>\n",
              "      <th>5</th>\n",
              "      <td>2458</td>\n",
              "      <td>B071JQJFWR</td>\n",
              "      <td>KingYuan</td>\n",
              "      <td>Flesh</td>\n",
              "      <td>https://images-na.ssl-images-amazon.com/images...</td>\n",
              "      <td>SHIRT</td>\n",
              "      <td>kingyuan 105d 42e  46d  48c wider tear drop ov...</td>\n",
              "      <td>99.99</td>\n",
              "    </tr>\n",
              "    <tr>\n",
              "      <th>6</th>\n",
              "      <td>2587</td>\n",
              "      <td>B01N8Z2K60</td>\n",
              "      <td>James Perse</td>\n",
              "      <td>Black</td>\n",
              "      <td>https://images-na.ssl-images-amazon.com/images...</td>\n",
              "      <td>SHIRT</td>\n",
              "      <td>james perse black shirt 1</td>\n",
              "      <td>99.99</td>\n",
              "    </tr>\n",
              "    <tr>\n",
              "      <th>7</th>\n",
              "      <td>2800</td>\n",
              "      <td>B01FUTECN6</td>\n",
              "      <td>Dolce &amp; Gabbana</td>\n",
              "      <td>Blue/White</td>\n",
              "      <td>https://images-na.ssl-images-amazon.com/images...</td>\n",
              "      <td>SHIRT</td>\n",
              "      <td>dolce  gabbana blue white striped cotton cap s...</td>\n",
              "      <td>99.99</td>\n",
              "    </tr>\n",
              "    <tr>\n",
              "      <th>8</th>\n",
              "      <td>3811</td>\n",
              "      <td>B01EUK0EDS</td>\n",
              "      <td>Ralph Lauren Black Label</td>\n",
              "      <td>Black</td>\n",
              "      <td>https://images-na.ssl-images-amazon.com/images...</td>\n",
              "      <td>SHIRT</td>\n",
              "      <td>ralph lauren black label collection denim blac...</td>\n",
              "      <td>99.99</td>\n",
              "    </tr>\n",
              "    <tr>\n",
              "      <th>9</th>\n",
              "      <td>3841</td>\n",
              "      <td>B00TA4OJVI</td>\n",
              "      <td>Wild Thing Wild Woman</td>\n",
              "      <td>Black Rainbow</td>\n",
              "      <td>https://images-na.ssl-images-amazon.com/images...</td>\n",
              "      <td>APPAREL</td>\n",
              "      <td>womens black rainbow cascading patch kimono ja...</td>\n",
              "      <td>99.99</td>\n",
              "    </tr>\n",
              "    <tr>\n",
              "      <th>10</th>\n",
              "      <td>4162</td>\n",
              "      <td>B01FWFPLIS</td>\n",
              "      <td>Dolce &amp; Gabbana</td>\n",
              "      <td>Multi-color</td>\n",
              "      <td>https://images-na.ssl-images-amazon.com/images...</td>\n",
              "      <td>SHIRT</td>\n",
              "      <td>dolce  gabbana black 100 cotton sleeveless pol...</td>\n",
              "      <td>99.99</td>\n",
              "    </tr>\n",
              "    <tr>\n",
              "      <th>11</th>\n",
              "      <td>4178</td>\n",
              "      <td>B015KZPXYC</td>\n",
              "      <td>Cocoon House</td>\n",
              "      <td>Multi</td>\n",
              "      <td>https://images-na.ssl-images-amazon.com/images...</td>\n",
              "      <td>SHIRT</td>\n",
              "      <td>womens avenue art wear silk tunic l  xl oversi...</td>\n",
              "      <td>99.99</td>\n",
              "    </tr>\n",
              "    <tr>\n",
              "      <th>12</th>\n",
              "      <td>4317</td>\n",
              "      <td>B01LR04JGM</td>\n",
              "      <td>Dolce &amp; Gabbana</td>\n",
              "      <td>Pink</td>\n",
              "      <td>https://images-na.ssl-images-amazon.com/images...</td>\n",
              "      <td>SHIRT</td>\n",
              "      <td>dolce  gabbana pink short sleeve blouse 38 4</td>\n",
              "      <td>99.99</td>\n",
              "    </tr>\n",
              "    <tr>\n",
              "      <th>13</th>\n",
              "      <td>5070</td>\n",
              "      <td>B01HWGS8XA</td>\n",
              "      <td>Just Cavalli</td>\n",
              "      <td>Light Pink</td>\n",
              "      <td>https://images-na.ssl-images-amazon.com/images...</td>\n",
              "      <td>SHIRT</td>\n",
              "      <td>cavalli light pink long sleeves see womens blo...</td>\n",
              "      <td>99.99</td>\n",
              "    </tr>\n",
              "    <tr>\n",
              "      <th>14</th>\n",
              "      <td>5861</td>\n",
              "      <td>B00U9PZG2I</td>\n",
              "      <td>Cocoon House</td>\n",
              "      <td>Multi</td>\n",
              "      <td>https://images-na.ssl-images-amazon.com/images...</td>\n",
              "      <td>SHIRT</td>\n",
              "      <td>womens marilyn inspired art wear silk tunic l ...</td>\n",
              "      <td>99.99</td>\n",
              "    </tr>\n",
              "    <tr>\n",
              "      <th>15</th>\n",
              "      <td>5886</td>\n",
              "      <td>B06XCHX8W6</td>\n",
              "      <td>Equipment Femme</td>\n",
              "      <td>Nude</td>\n",
              "      <td>https://images-na.ssl-images-amazon.com/images...</td>\n",
              "      <td>SHIRT</td>\n",
              "      <td>equipment femme cropped short sleeve signature...</td>\n",
              "      <td>99.99</td>\n",
              "    </tr>\n",
              "    <tr>\n",
              "      <th>16</th>\n",
              "      <td>6015</td>\n",
              "      <td>B073QW2HK5</td>\n",
              "      <td>Wild Thing Wild Woman</td>\n",
              "      <td>Black Rainbow</td>\n",
              "      <td>https://images-na.ssl-images-amazon.com/images...</td>\n",
              "      <td>APPAREL</td>\n",
              "      <td>black multi cascading patch kimono jacket plus...</td>\n",
              "      <td>99.99</td>\n",
              "    </tr>\n",
              "    <tr>\n",
              "      <th>17</th>\n",
              "      <td>6030</td>\n",
              "      <td>B01HSKDJXY</td>\n",
              "      <td>Just Cavalli</td>\n",
              "      <td>Multi-color</td>\n",
              "      <td>https://images-na.ssl-images-amazon.com/images...</td>\n",
              "      <td>SHIRT</td>\n",
              "      <td>cavalli multicolor short sleeve see womens blo...</td>\n",
              "      <td>99.99</td>\n",
              "    </tr>\n",
              "    <tr>\n",
              "      <th>18</th>\n",
              "      <td>6162</td>\n",
              "      <td>B00U9Q4SXK</td>\n",
              "      <td>Cocoon House</td>\n",
              "      <td>Multi</td>\n",
              "      <td>https://images-na.ssl-images-amazon.com/images...</td>\n",
              "      <td>SHIRT</td>\n",
              "      <td>womens abstract art wear silk tunic l  xl over...</td>\n",
              "      <td>99.99</td>\n",
              "    </tr>\n",
              "    <tr>\n",
              "      <th>19</th>\n",
              "      <td>6171</td>\n",
              "      <td>B074G4G79J</td>\n",
              "      <td>Viktor &amp; Rolf</td>\n",
              "      <td>Pink</td>\n",
              "      <td>https://images-na.ssl-images-amazon.com/images...</td>\n",
              "      <td>SHIRT</td>\n",
              "      <td>viktor  rolf linen pink knitted sleeveless wom...</td>\n",
              "      <td>99.99</td>\n",
              "    </tr>\n",
              "  </tbody>\n",
              "</table>\n",
              "</div>"
            ],
            "text/plain": [
              "       id        asin                     brand          color  \\\n",
              "0   13055  B01IO1GL4U        Brunello Cucinelli           Gray   \n",
              "1    1366  B01LBQC1IU    Maison Martin Margiela    Multi-color   \n",
              "2    1643  B01L7OJBGG    Maison Martin Margiela       Burgundy   \n",
              "3    2051  B01FUYK5QO           Dolce & Gabbana    Black/ivory   \n",
              "4    2387  B06XSHXWK5                 HUGO BOSS    Multi-color   \n",
              "5    2458  B071JQJFWR                  KingYuan          Flesh   \n",
              "6    2587  B01N8Z2K60               James Perse          Black   \n",
              "7    2800  B01FUTECN6           Dolce & Gabbana     Blue/White   \n",
              "8    3811  B01EUK0EDS  Ralph Lauren Black Label          Black   \n",
              "9    3841  B00TA4OJVI     Wild Thing Wild Woman  Black Rainbow   \n",
              "10   4162  B01FWFPLIS           Dolce & Gabbana    Multi-color   \n",
              "11   4178  B015KZPXYC              Cocoon House          Multi   \n",
              "12   4317  B01LR04JGM           Dolce & Gabbana           Pink   \n",
              "13   5070  B01HWGS8XA              Just Cavalli     Light Pink   \n",
              "14   5861  B00U9PZG2I              Cocoon House          Multi   \n",
              "15   5886  B06XCHX8W6           Equipment Femme           Nude   \n",
              "16   6015  B073QW2HK5     Wild Thing Wild Woman  Black Rainbow   \n",
              "17   6030  B01HSKDJXY              Just Cavalli    Multi-color   \n",
              "18   6162  B00U9Q4SXK              Cocoon House          Multi   \n",
              "19   6171  B074G4G79J             Viktor & Rolf           Pink   \n",
              "\n",
              "                                     medium_image_url product_type_name  \\\n",
              "0   https://images-na.ssl-images-amazon.com/images...             SHIRT   \n",
              "1   https://images-na.ssl-images-amazon.com/images...             SHIRT   \n",
              "2   https://images-na.ssl-images-amazon.com/images...             SHIRT   \n",
              "3   https://images-na.ssl-images-amazon.com/images...             SHIRT   \n",
              "4   https://images-na.ssl-images-amazon.com/images...             SHIRT   \n",
              "5   https://images-na.ssl-images-amazon.com/images...             SHIRT   \n",
              "6   https://images-na.ssl-images-amazon.com/images...             SHIRT   \n",
              "7   https://images-na.ssl-images-amazon.com/images...             SHIRT   \n",
              "8   https://images-na.ssl-images-amazon.com/images...             SHIRT   \n",
              "9   https://images-na.ssl-images-amazon.com/images...           APPAREL   \n",
              "10  https://images-na.ssl-images-amazon.com/images...             SHIRT   \n",
              "11  https://images-na.ssl-images-amazon.com/images...             SHIRT   \n",
              "12  https://images-na.ssl-images-amazon.com/images...             SHIRT   \n",
              "13  https://images-na.ssl-images-amazon.com/images...             SHIRT   \n",
              "14  https://images-na.ssl-images-amazon.com/images...             SHIRT   \n",
              "15  https://images-na.ssl-images-amazon.com/images...             SHIRT   \n",
              "16  https://images-na.ssl-images-amazon.com/images...           APPAREL   \n",
              "17  https://images-na.ssl-images-amazon.com/images...             SHIRT   \n",
              "18  https://images-na.ssl-images-amazon.com/images...             SHIRT   \n",
              "19  https://images-na.ssl-images-amazon.com/images...             SHIRT   \n",
              "\n",
              "                                                title formatted_price  \n",
              "0   brunello cucinelli womens gray satin silk blaz...           995.0  \n",
              "1   maison martin margiela mm6 womens sleeveless b...           99.99  \n",
              "2   maison martin margiela 1 womens burgundy cap s...           99.99  \n",
              "3   dolce  gabbana black ivory striped cotton shor...           99.99  \n",
              "4   boss esabia windowpane print twist detail jers...           99.99  \n",
              "5   kingyuan 105d 42e  46d  48c wider tear drop ov...           99.99  \n",
              "6                          james perse black shirt 1            99.99  \n",
              "7   dolce  gabbana blue white striped cotton cap s...           99.99  \n",
              "8   ralph lauren black label collection denim blac...           99.99  \n",
              "9   womens black rainbow cascading patch kimono ja...           99.99  \n",
              "10  dolce  gabbana black 100 cotton sleeveless pol...           99.99  \n",
              "11  womens avenue art wear silk tunic l  xl oversi...           99.99  \n",
              "12      dolce  gabbana pink short sleeve blouse 38 4            99.99  \n",
              "13  cavalli light pink long sleeves see womens blo...           99.99  \n",
              "14  womens marilyn inspired art wear silk tunic l ...           99.99  \n",
              "15  equipment femme cropped short sleeve signature...           99.99  \n",
              "16  black multi cascading patch kimono jacket plus...           99.99  \n",
              "17  cavalli multicolor short sleeve see womens blo...           99.99  \n",
              "18  womens abstract art wear silk tunic l  xl over...           99.99  \n",
              "19  viktor  rolf linen pink knitted sleeveless wom...           99.99  "
            ]
          },
          "metadata": {
            "tags": []
          },
          "execution_count": 55
        }
      ]
    },
    {
      "cell_type": "markdown",
      "metadata": {
        "id": "Sre6ddlJXxoj"
      },
      "source": [
        "## Text preprocessing"
      ]
    },
    {
      "cell_type": "code",
      "metadata": {
        "colab": {
          "base_uri": "https://localhost:8080/"
        },
        "id": "tvEO0qM9Xwaa",
        "outputId": "fc271d4f-9b1c-4b18-9527-d7acfc8bb30a"
      },
      "source": [
        "import nltk\n",
        "nltk.download('stopwords')\n",
        "from nltk.corpus import stopwords\n",
        "import re\n",
        "\n",
        "def decontracted(phrase):\n",
        "    # specific\n",
        "    phrase = re.sub(r\"won't\", \"will not\", phrase)\n",
        "    phrase = re.sub(r\"can\\'t\", \"can not\", phrase)\n",
        "\n",
        "    # general\n",
        "    phrase = re.sub(r\"n\\'t\", \" not\", phrase)\n",
        "    phrase = re.sub(r\"\\'re\", \" are\", phrase)\n",
        "    phrase = re.sub(r\"\\'s\", \" is\", phrase)\n",
        "    phrase = re.sub(r\"\\'d\", \" would\", phrase)\n",
        "    phrase = re.sub(r\"\\'ll\", \" will\", phrase)\n",
        "    phrase = re.sub(r\"\\'t\", \" not\", phrase)\n",
        "    phrase = re.sub(r\"\\'ve\", \" have\", phrase)\n",
        "    phrase = re.sub(r\"\\'m\", \" am\", phrase)\n",
        "    phrase = re.sub(r\"\\n\", \"\", phrase)\n",
        "    return phrase\n",
        "\n",
        "def remove_stopwords(text):\n",
        "    '''this function will remove stopwords from text using nltk stopwords'''\n",
        "    final_text = ''\n",
        "    for word in text.split():\n",
        "        if word not in stopwords.words('english'):\n",
        "            final_text += word + ' '\n",
        "    return final_text\n",
        "\n",
        "def preprocess_title(text):\n",
        "    # convert to lower case\n",
        "    text = text.lower()\n",
        "    # decontract\n",
        "    text = decontracted(text)\n",
        "    # remove all punctuations except a-z and c# and c++\n",
        "    text = re.sub('[^a-z]+',' ',text)\n",
        "    # remove stop words\n",
        "    text = remove_stopwords(text)\n",
        "    return text"
      ],
      "execution_count": 10,
      "outputs": [
        {
          "output_type": "stream",
          "text": [
            "[nltk_data] Downloading package stopwords to /root/nltk_data...\n",
            "[nltk_data]   Unzipping corpora/stopwords.zip.\n"
          ],
          "name": "stdout"
        }
      ]
    },
    {
      "cell_type": "code",
      "metadata": {
        "colab": {
          "base_uri": "https://localhost:8080/",
          "height": 66,
          "referenced_widgets": [
            "546017159d7c4731a32d61d0686f4fd0",
            "d6979dc84b6b4d3388e06155ea6e71bd",
            "d6a9b3bd26a740d4abb9c6c8d246b9d3",
            "66786e98b080431e9f16ed09e700ee61",
            "b9955966a1f945868f17d3449cbcdc7b",
            "e1dbf6a3598b41b79881bfbdaead6c9f",
            "ac901fa8a67f4b68847782649c736d07",
            "28513723d6a14f1f8e4ab203d6509c4d"
          ]
        },
        "id": "TYLhKZ2FYm-R",
        "outputId": "878da718-29b9-4b2c-c8eb-1ead07e3666f"
      },
      "source": [
        "preprocessed_title = []\n",
        "for text in tqdm(dff['title']):\n",
        "    preprocessed_title.append(preprocess_title(text))"
      ],
      "execution_count": null,
      "outputs": [
        {
          "output_type": "display_data",
          "data": {
            "application/vnd.jupyter.widget-view+json": {
              "model_id": "546017159d7c4731a32d61d0686f4fd0",
              "version_minor": 0,
              "version_major": 2
            },
            "text/plain": [
              "HBox(children=(FloatProgress(value=0.0, max=16042.0), HTML(value='')))"
            ]
          },
          "metadata": {
            "tags": []
          }
        },
        {
          "output_type": "stream",
          "text": [
            "\n"
          ],
          "name": "stdout"
        }
      ]
    },
    {
      "cell_type": "markdown",
      "metadata": {
        "id": "oYCeoR_1aRl_"
      },
      "source": [
        "# Download Glove_840B_300d"
      ]
    },
    {
      "cell_type": "code",
      "metadata": {
        "id": "usWcwE25MvsY"
      },
      "source": [
        "!wget --header=\"Host: downloads.cs.stanford.edu\" --header=\"User-Agent: Mozilla/5.0 (X11; Linux x86_64) AppleWebKit/537.36 (KHTML, like Gecko) Chrome/87.0.4280.88 Safari/537.36\" --header=\"Accept: text/html,application/xhtml+xml,application/xml;q=0.9,image/avif,image/webp,image/apng,*/*;q=0.8,application/signed-exchange;v=b3;q=0.9\" --header=\"Accept-Language: en-IN,en-GB;q=0.9,en-US;q=0.8,en;q=0.7\" --header=\"Cookie: _ga=GA1.2.1563687661.1610043308; _gid=GA1.2.1018818887.1610043308\" --header=\"Connection: keep-alive\" \"http://downloads.cs.stanford.edu/nlp/data/glove.840B.300d.zip\" -c -O 'CurlWget1133'"
      ],
      "execution_count": null,
      "outputs": []
    },
    {
      "cell_type": "code",
      "metadata": {
        "colab": {
          "base_uri": "https://localhost:8080/"
        },
        "id": "SFkJAKvaJqXQ",
        "outputId": "a1c8337b-1b0e-4d6f-b912-e3e95b56e5b4"
      },
      "source": [
        "!unzip 'glove_840B_300d'"
      ],
      "execution_count": null,
      "outputs": [
        {
          "output_type": "stream",
          "text": [
            "Archive:  glove_840B_300d\n",
            "  inflating: glove.840B.300d.txt     \n"
          ],
          "name": "stdout"
        }
      ]
    },
    {
      "cell_type": "markdown",
      "metadata": {
        "id": "jC1xyo8YaZIT"
      },
      "source": [
        "##Load Glove model"
      ]
    },
    {
      "cell_type": "code",
      "metadata": {
        "id": "apZ_CuRhDT6o"
      },
      "source": [
        "# function to load glove vectors\n",
        "from tqdm import tqdm\n",
        "def load_glove_model(glove_file):\n",
        "    print(\"Loading Glove Model\")\n",
        "    f = open(glove_file, 'r')\n",
        "    model = {}\n",
        "    vector_size = 300\n",
        "    for line in tqdm(f):\n",
        "        split_line = line.split()\n",
        "        word = \" \".join(split_line[0:len(split_line) - vector_size])\n",
        "        embedding = np.array([float(val) for val in split_line[-vector_size:]])\n",
        "        model[word] = embedding\n",
        "    print(\"Done.\\n\" + str(len(model)) + \" words loaded!\")\n",
        "    return model"
      ],
      "execution_count": null,
      "outputs": []
    },
    {
      "cell_type": "code",
      "metadata": {
        "colab": {
          "base_uri": "https://localhost:8080/"
        },
        "id": "M_HYEEJYJTtK",
        "outputId": "939c33d3-ae37-4401-9801-e186a748daff"
      },
      "source": [
        "glove_model = load_glove_model('glove.840B.300d.txt')"
      ],
      "execution_count": null,
      "outputs": [
        {
          "output_type": "stream",
          "text": [
            "736it [00:00, 7353.70it/s]"
          ],
          "name": "stderr"
        },
        {
          "output_type": "stream",
          "text": [
            "Loading Glove Model\n"
          ],
          "name": "stdout"
        },
        {
          "output_type": "stream",
          "text": [
            "2196017it [04:09, 8806.69it/s]"
          ],
          "name": "stderr"
        },
        {
          "output_type": "stream",
          "text": [
            "Done.\n",
            "2195895 words loaded!\n"
          ],
          "name": "stdout"
        },
        {
          "output_type": "stream",
          "text": [
            "\n"
          ],
          "name": "stderr"
        }
      ]
    },
    {
      "cell_type": "code",
      "metadata": {
        "colab": {
          "base_uri": "https://localhost:8080/",
          "height": 66,
          "referenced_widgets": [
            "10f9da76c603454e83ab70af6c41cc5f",
            "340de0968a3543e79cabcd571f7095e6",
            "3eaeb2cfe1bd46628baaf4646b9c3316",
            "db3d601cf506405db8e282d1985103e1",
            "0dfdf03b0d644643a73626e3867eb974",
            "f25bc2085c764e65b8c8fc4c27aabbb1",
            "19dee1f0c9e543568ad3f8d097d5b49a",
            "817a989fb61a4990bd7920b6b69a849e"
          ]
        },
        "id": "qwSZFP9-DT10",
        "outputId": "7d6454b6-1e81-42ed-fcfe-72b9a9acb9dd"
      },
      "source": [
        "# get list of lists for every sentence words\n",
        "words = []\n",
        "for line in tqdm(preprocessed_title):\n",
        "    words.append(line.split())"
      ],
      "execution_count": null,
      "outputs": [
        {
          "output_type": "display_data",
          "data": {
            "application/vnd.jupyter.widget-view+json": {
              "model_id": "10f9da76c603454e83ab70af6c41cc5f",
              "version_minor": 0,
              "version_major": 2
            },
            "text/plain": [
              "HBox(children=(FloatProgress(value=0.0, max=16042.0), HTML(value='')))"
            ]
          },
          "metadata": {
            "tags": []
          }
        },
        {
          "output_type": "stream",
          "text": [
            "\n"
          ],
          "name": "stdout"
        }
      ]
    },
    {
      "cell_type": "code",
      "metadata": {
        "colab": {
          "base_uri": "https://localhost:8080/"
        },
        "id": "X3-NZ7rFDTzi",
        "outputId": "2f62379c-5e9f-431e-8938-93d62df88923"
      },
      "source": [
        "len(words)"
      ],
      "execution_count": null,
      "outputs": [
        {
          "output_type": "execute_result",
          "data": {
            "text/plain": [
              "16042"
            ]
          },
          "metadata": {
            "tags": []
          },
          "execution_count": 57
        }
      ]
    },
    {
      "cell_type": "code",
      "metadata": {
        "colab": {
          "base_uri": "https://localhost:8080/",
          "height": 66,
          "referenced_widgets": [
            "97f32393962942ce9513741850f14a3a",
            "bbc4e27047dd4c15a4fcec852be26488",
            "b3696022801f4e5380ab6b97596cb027",
            "15e411af0ec248d1bba0bbc8b63e0459",
            "1aa7c0a89c184e48a8807a285ada3cae",
            "cbce3b7e2c7942f1bad9f294f5b4648b",
            "eff3d56eaaaa41efa410a3e80a69b584",
            "d11824bec9ff47629ff2b95057178423"
          ]
        },
        "id": "qOLqsxVgDTw8",
        "outputId": "7415562a-6605-448e-91b1-6a4a34c65c47"
      },
      "source": [
        "# get one single list of whole corpus words\n",
        "Words = []\n",
        "for line in tqdm(preprocessed_title):\n",
        "    Words.extend(line.split())"
      ],
      "execution_count": null,
      "outputs": [
        {
          "output_type": "display_data",
          "data": {
            "application/vnd.jupyter.widget-view+json": {
              "model_id": "97f32393962942ce9513741850f14a3a",
              "version_minor": 0,
              "version_major": 2
            },
            "text/plain": [
              "HBox(children=(FloatProgress(value=0.0, max=16042.0), HTML(value='')))"
            ]
          },
          "metadata": {
            "tags": []
          }
        },
        {
          "output_type": "stream",
          "text": [
            "\n"
          ],
          "name": "stdout"
        }
      ]
    },
    {
      "cell_type": "code",
      "metadata": {
        "colab": {
          "base_uri": "https://localhost:8080/"
        },
        "id": "2ylu3QXYZhR4",
        "outputId": "9c6cd928-567a-478b-b75e-c18e2a61736d"
      },
      "source": [
        "print(\"All the words in the courpus\", len(Words))\n",
        "\n",
        "Words = set(Words)\n",
        "\n",
        "print(\"The unique words in the courpus\", len(Words))\n",
        "\n",
        "inter_words = set(glove_model.keys()).intersection(Words)\n",
        "\n",
        "print(\"The number of words that are present in both glove vectors and our courpus\",\n",
        "      len(inter_words),\"(\",np.round(len(inter_words)/len(Words)*100,3),\"%)\")"
      ],
      "execution_count": null,
      "outputs": [
        {
          "output_type": "stream",
          "text": [
            "All the words in the courpus 148653\n",
            "The unique words in the courpus 11125\n",
            "The number of words that are present in both glove vectors and our courpus 8204 ( 73.744 %)\n"
          ],
          "name": "stdout"
        }
      ]
    },
    {
      "cell_type": "code",
      "metadata": {
        "colab": {
          "base_uri": "https://localhost:8080/",
          "height": 100,
          "referenced_widgets": [
            "333c045bc2f7445ea82d4b7e0b823750",
            "7805ba9169db40589f1280e16e5dfdda",
            "fab6b89a1d3c4c46b4d4c595f617a50c",
            "a755e24d728349b5b87eb54bd96cefde",
            "d2216a53a9894e699281670dffc931ed",
            "0958e8e6f80c4f9fbea362071c2c6b58",
            "5acf5255da7f44ddaf15085fb3d73527",
            "b67c5861bad34479af402ba09854f28d"
          ]
        },
        "id": "s5Z6N5hxG47s",
        "outputId": "8c5f2289-54f5-4ce6-d87d-c86c28428150"
      },
      "source": [
        "from tqdm.auto import tqdm\n",
        "\n",
        "words_corpus = {}\n",
        "words_glove = set(glove_model.keys())\n",
        "for i in tqdm(Words):\n",
        "    if i in words_glove:\n",
        "        words_corpus[i] = glove_model[i]\n",
        "\n",
        "print(\"word 2 vec length\", len(words_corpus))\n",
        "\n",
        "# stronging variables into pickle files python\n",
        "joblib.dump(words_corpus,'pickle_files/words_corpus.pkl')"
      ],
      "execution_count": null,
      "outputs": [
        {
          "output_type": "display_data",
          "data": {
            "application/vnd.jupyter.widget-view+json": {
              "model_id": "333c045bc2f7445ea82d4b7e0b823750",
              "version_minor": 0,
              "version_major": 2
            },
            "text/plain": [
              "HBox(children=(FloatProgress(value=0.0, max=11125.0), HTML(value='')))"
            ]
          },
          "metadata": {
            "tags": []
          }
        },
        {
          "output_type": "stream",
          "text": [
            "\n",
            "word 2 vec length 8204\n"
          ],
          "name": "stdout"
        },
        {
          "output_type": "execute_result",
          "data": {
            "text/plain": [
              "['pickle_files/words_corpus.pkl']"
            ]
          },
          "metadata": {
            "tags": []
          },
          "execution_count": 60
        }
      ]
    },
    {
      "cell_type": "code",
      "metadata": {
        "colab": {
          "base_uri": "https://localhost:8080/"
        },
        "id": "FzoYnZ6VRQ_I",
        "outputId": "4fd1a6fe-bd43-46e9-f630-f70a5a67ffd1"
      },
      "source": [
        "len(words_corpus)"
      ],
      "execution_count": null,
      "outputs": [
        {
          "output_type": "execute_result",
          "data": {
            "text/plain": [
              "8204"
            ]
          },
          "metadata": {
            "tags": []
          },
          "execution_count": 61
        }
      ]
    },
    {
      "cell_type": "code",
      "metadata": {
        "colab": {
          "base_uri": "https://localhost:8080/"
        },
        "id": "BNrCe-vrSb15",
        "outputId": "2776acea-7d19-4f5f-e28a-ea4c172b66c0"
      },
      "source": [
        "# keys of word corpus\n",
        "words_corpus_keys = words_corpus.keys()\n",
        "len(words_corpus_keys)"
      ],
      "execution_count": null,
      "outputs": [
        {
          "output_type": "execute_result",
          "data": {
            "text/plain": [
              "8647"
            ]
          },
          "metadata": {
            "tags": []
          },
          "execution_count": 39
        }
      ]
    },
    {
      "cell_type": "code",
      "metadata": {
        "id": "oXyIr9NAQMTT"
      },
      "source": [
        "from sklearn.feature_extraction.text import TfidfVectorizer"
      ],
      "execution_count": null,
      "outputs": []
    },
    {
      "cell_type": "code",
      "metadata": {
        "colab": {
          "base_uri": "https://localhost:8080/"
        },
        "id": "DWVEFyB0GeY8",
        "outputId": "c0d76e64-6887-4a3a-8540-08702d2bb2fc"
      },
      "source": [
        "tfidf = TfidfVectorizer()\n",
        "# fit and transform on question content\n",
        "tfidf.fit_transform(preprocessed_title)"
      ],
      "execution_count": null,
      "outputs": [
        {
          "output_type": "execute_result",
          "data": {
            "text/plain": [
              "<16042x11107 sparse matrix of type '<class 'numpy.float64'>'\n",
              "\twith 143956 stored elements in Compressed Sparse Row format>"
            ]
          },
          "metadata": {
            "tags": []
          },
          "execution_count": 63
        }
      ]
    },
    {
      "cell_type": "code",
      "metadata": {
        "colab": {
          "base_uri": "https://localhost:8080/"
        },
        "id": "zn34Wpd-GeUL",
        "outputId": "9f64421d-e3b2-4a62-8de5-b344759d3940"
      },
      "source": [
        "# save tfidf\n",
        "joblib.dump(tfidf,'pickle_files/tfidf.pkl')"
      ],
      "execution_count": null,
      "outputs": [
        {
          "output_type": "execute_result",
          "data": {
            "text/plain": [
              "['pickle_files/tfidf.pkl']"
            ]
          },
          "metadata": {
            "tags": []
          },
          "execution_count": 64
        }
      ]
    },
    {
      "cell_type": "code",
      "metadata": {
        "colab": {
          "base_uri": "https://localhost:8080/"
        },
        "id": "n0XgBeb-G443",
        "outputId": "7967c03e-54e0-4b10-8174-153cb4d36ba4"
      },
      "source": [
        "dictionary = dict(zip(tfidf.get_feature_names(), list(tfidf.idf_)))\n",
        "tfidf_words = set(tfidf.get_feature_names())\n",
        "print(' Total tfidf words are ==> ',len(tfidf_words))"
      ],
      "execution_count": null,
      "outputs": [
        {
          "output_type": "stream",
          "text": [
            " Total tfidf words are ==>  11107\n"
          ],
          "name": "stdout"
        }
      ]
    },
    {
      "cell_type": "markdown",
      "metadata": {
        "id": "f7X5_rGcahq0"
      },
      "source": [
        "### Get tfidf weighted W2V on whole corpus"
      ]
    },
    {
      "cell_type": "code",
      "metadata": {
        "colab": {
          "base_uri": "https://localhost:8080/",
          "height": 66,
          "referenced_widgets": [
            "e9a48d0f84b84c3ebebbfbc6aa1af35d",
            "c686f08183e3465889f8135cf0f475fb",
            "1e0d362ede954ea388d46cbcbfa9e3de",
            "79097bece41e490d9cf4b1d46dfff815",
            "061ca594da464914ab6279e89f29e7a7",
            "72a8965695234da68b1e3092cf774bc4",
            "a7acb103021d4e3d88f0af7549665f87",
            "5e201058e47e467e8d3ade1b6efe103c"
          ]
        },
        "id": "BwmE9BboG42Z",
        "outputId": "356c0d3a-8812-4443-e249-a68ec8d607e7"
      },
      "source": [
        "tfidf_w2v_vector = [] # the weighted w2v for each sentence is stored in this list\n",
        "for sentence in tqdm(words): # for each sentence words list\n",
        "    vector = np.zeros(300) # as word vectors length is 300\n",
        "    tf_idf_weight =0; # num of words with a valid vector in the sentence\n",
        "    for word in sentence : # for each word in a review/sentence\n",
        "        if (word in words_corpus_keys ) and (word in tfidf_words):\n",
        "            vec = words_corpus[word] # getting the vector for each word\n",
        "            # multiply idf value of word with tf of word\n",
        "            tf_idf = dictionary[word]*(sentence.count(word)/len(sentence))\n",
        "            vector += (vec * tf_idf) # calculating tfidf weighted w2v\n",
        "            tf_idf_weight += tf_idf\n",
        "    if tf_idf_weight != 0:\n",
        "        vector /= tf_idf_weight\n",
        "    tfidf_w2v_vector.append(vector)"
      ],
      "execution_count": null,
      "outputs": [
        {
          "output_type": "display_data",
          "data": {
            "application/vnd.jupyter.widget-view+json": {
              "model_id": "e9a48d0f84b84c3ebebbfbc6aa1af35d",
              "version_minor": 0,
              "version_major": 2
            },
            "text/plain": [
              "HBox(children=(FloatProgress(value=0.0, max=16042.0), HTML(value='')))"
            ]
          },
          "metadata": {
            "tags": []
          }
        },
        {
          "output_type": "stream",
          "text": [
            "\n"
          ],
          "name": "stdout"
        }
      ]
    },
    {
      "cell_type": "code",
      "metadata": {
        "colab": {
          "base_uri": "https://localhost:8080/"
        },
        "id": "NNn015HKG4zf",
        "outputId": "d20831fc-c563-46fd-a125-92f6f898ea40"
      },
      "source": [
        "# save into disk\n",
        "joblib.dump(tfidf_w2v_vector,'pickle_files/tfidf_glove_vectors.pkl')"
      ],
      "execution_count": null,
      "outputs": [
        {
          "output_type": "execute_result",
          "data": {
            "text/plain": [
              "['pickle_files/tfidf_glove_vectors.pkl']"
            ]
          },
          "metadata": {
            "tags": []
          },
          "execution_count": 67
        }
      ]
    },
    {
      "cell_type": "code",
      "metadata": {
        "id": "Hb6rHIhwXwSZ"
      },
      "source": [
        ""
      ],
      "execution_count": null,
      "outputs": []
    },
    {
      "cell_type": "markdown",
      "metadata": {
        "id": "cMB7J8lnapFa"
      },
      "source": [
        "# final function to get top k similar result"
      ]
    },
    {
      "cell_type": "code",
      "metadata": {
        "id": "qcyP1XJyG4uR"
      },
      "source": [
        "# -------------get glove words from word corpus-------------------------\n",
        "words_corpus = joblib.load('pickle_files/words_corpus.pkl')\n",
        "glove_words = set(words_corpus.keys())\n",
        "\n",
        "# --------------load tfidf------------------------------\n",
        "tfidf = joblib.load('pickle_files/tfidf.pkl')\n",
        "# get tfidf words\n",
        "tfidf_words = set(tfidf.get_feature_names())\n",
        "# dictionary of tfidf\n",
        "dictionary = dict(zip(tfidf.get_feature_names(), list(tfidf.idf_)))\n",
        "\n",
        "#-----------------load tfidf_w2v_vectors of corpus----------------\n",
        "tfidf_w2v_vector = joblib.load('pickle_files/tfidf_glove_vectors.pkl')\n",
        "\n",
        "def find_similarity(question,top_n):\n",
        "    ''' This function will find top similar result for given query'''\n",
        "    start = time.time()\n",
        "    # initialize  vector for user query\n",
        "    main_vec = np.zeros(300)\n",
        "    # initialize tfidf weight\n",
        "    weight_sum = 0\n",
        "    # preprocess question\n",
        "    text = preprocess_title(question)\n",
        "    #splitting the sentence\n",
        "    text_list = list(text.split())\n",
        "    for word in text_list:\n",
        "        #finding if word is present in tfidf and in w2v words\n",
        "        if word in tfidf_words and word in glove_words :\n",
        "            #finding vector of word from glove model\n",
        "            vect = words_corpus[word]\n",
        "            #compute tfidf\n",
        "            tf_idf = dictionary[word]*(text_list.count(word)/len(text_list)) \n",
        "            # adding vector * tfidf to main_vec\n",
        "            main_vec+= (vect*tf_idf)\n",
        "            # summing tfidf values\n",
        "            weight_sum += tf_idf\n",
        "    if weight_sum !=0:\n",
        "        # devide by weight_sum\n",
        "        main_vec /= weight_sum\n",
        "    # find cosine similarity\n",
        "    similarities =  cosine_similarity((main_vec).reshape(1, -1), Y=tfidf_w2v_vector, dense_output=True)\n",
        "    # sort similarities \n",
        "    #print(similarities[0])\n",
        "    \n",
        "    sort = np.argsort(similarities[0])\n",
        "    # get top similarity indices  in descending order\n",
        "    similarity_index = np.array(list(reversed(sort)))\n",
        "    # finad top n similarities\n",
        "    top_similarity_index = similarity_index[1:top_n+1]\n",
        "    # print top similarity values\n",
        "    print('Top cosine similarities are ======>',similarities[0][top_similarity_index])\n",
        "    # get original title of similar questions\n",
        "    similar_questions = dff.iloc[top_similarity_index]\n",
        "    #print(similar_questions)\n",
        "    \n",
        "    total_time = (time.time() - start)\n",
        "    print('Total time ===========> ',total_time)\n",
        "    return similar_questions,top_similarity_index\n"
      ],
      "execution_count": 27,
      "outputs": []
    },
    {
      "cell_type": "code",
      "metadata": {
        "colab": {
          "base_uri": "https://localhost:8080/",
          "height": 35
        },
        "id": "XPXpw_sSb5VJ",
        "outputId": "f627457c-063d-4bae-b366-a1517efb3084"
      },
      "source": [
        "dff['title'][0]"
      ],
      "execution_count": 28,
      "outputs": [
        {
          "output_type": "execute_result",
          "data": {
            "application/vnd.google.colaboratory.intrinsic+json": {
              "type": "string"
            },
            "text/plain": [
              "'featherlite ladies long sleeve stain resistant tapered twill shirt 2xl onyx black stone '"
            ]
          },
          "metadata": {
            "tags": []
          },
          "execution_count": 28
        }
      ]
    },
    {
      "cell_type": "code",
      "metadata": {
        "colab": {
          "base_uri": "https://localhost:8080/"
        },
        "id": "7qIYfKi7bhiT",
        "outputId": "c5375c94-25c4-4483-8fbf-4c8970611992"
      },
      "source": [
        "title = 'kingyuan 105d 42e 46d 48c wider tear drop oval silicone breast forms breast enhancers fake boobs without adhesive layer'\n",
        "top_10,top_10_id = find_similarity(title,10)"
      ],
      "execution_count": 33,
      "outputs": [
        {
          "output_type": "stream",
          "text": [
            "Top cosine similarities are ======> [1.         1.         0.99577173 0.99577173 0.99577173 0.99577173\n",
            " 0.99577173 0.99236037 0.99236037 0.99236037]\n",
            "Total time ===========>  0.06833958625793457\n"
          ],
          "name": "stdout"
        }
      ]
    },
    {
      "cell_type": "code",
      "metadata": {
        "colab": {
          "base_uri": "https://localhost:8080/"
        },
        "id": "INSAoALeeZ7f",
        "outputId": "55c07559-9c0f-494e-ad6b-fe7910d07191"
      },
      "source": [
        "top_10_id"
      ],
      "execution_count": 34,
      "outputs": [
        {
          "output_type": "execute_result",
          "data": {
            "text/plain": [
              "array([6948, 6637, 3603, 2226, 4199, 3291, 4794, 6682, 5412, 5331])"
            ]
          },
          "metadata": {
            "tags": []
          },
          "execution_count": 34
        }
      ]
    },
    {
      "cell_type": "code",
      "metadata": {
        "colab": {
          "base_uri": "https://localhost:8080/",
          "height": 869
        },
        "id": "JJbkTsuzt6QL",
        "outputId": "4334c77b-b159-4ab9-823f-dc5a89591825"
      },
      "source": [
        "top_10"
      ],
      "execution_count": 36,
      "outputs": [
        {
          "output_type": "execute_result",
          "data": {
            "text/html": [
              "<div>\n",
              "<style scoped>\n",
              "    .dataframe tbody tr th:only-of-type {\n",
              "        vertical-align: middle;\n",
              "    }\n",
              "\n",
              "    .dataframe tbody tr th {\n",
              "        vertical-align: top;\n",
              "    }\n",
              "\n",
              "    .dataframe thead th {\n",
              "        text-align: right;\n",
              "    }\n",
              "</style>\n",
              "<table border=\"1\" class=\"dataframe\">\n",
              "  <thead>\n",
              "    <tr style=\"text-align: right;\">\n",
              "      <th></th>\n",
              "      <th>asin</th>\n",
              "      <th>brand</th>\n",
              "      <th>color</th>\n",
              "      <th>medium_image_url</th>\n",
              "      <th>product_type_name</th>\n",
              "      <th>title</th>\n",
              "      <th>formatted_price</th>\n",
              "    </tr>\n",
              "  </thead>\n",
              "  <tbody>\n",
              "    <tr>\n",
              "      <th>6948</th>\n",
              "      <td>B07213TY3D</td>\n",
              "      <td>KingYuan</td>\n",
              "      <td>Flesh</td>\n",
              "      <td>https://images-na.ssl-images-amazon.com/images...</td>\n",
              "      <td>SHIRT</td>\n",
              "      <td>kingyuan 75d 34c  36b  38a wider tear drop ova...</td>\n",
              "      <td>39.99</td>\n",
              "    </tr>\n",
              "    <tr>\n",
              "      <th>6637</th>\n",
              "      <td>B07213B45W</td>\n",
              "      <td>KingYuan</td>\n",
              "      <td>Flesh</td>\n",
              "      <td>https://images-na.ssl-images-amazon.com/images...</td>\n",
              "      <td>SHIRT</td>\n",
              "      <td>kingyuan 70d 34b  36a  38aa wider tear drop ov...</td>\n",
              "      <td>32.99</td>\n",
              "    </tr>\n",
              "    <tr>\n",
              "      <th>3603</th>\n",
              "      <td>B071WNSBT6</td>\n",
              "      <td>KingYuan</td>\n",
              "      <td>Flesh</td>\n",
              "      <td>https://images-na.ssl-images-amazon.com/images...</td>\n",
              "      <td>SHIRT</td>\n",
              "      <td>kingyuan 85d 36dd  38d  40c wider tear drop ov...</td>\n",
              "      <td>56.99</td>\n",
              "    </tr>\n",
              "    <tr>\n",
              "      <th>2226</th>\n",
              "      <td>B071WNMPQX</td>\n",
              "      <td>KingYuan</td>\n",
              "      <td>Flesh</td>\n",
              "      <td>https://images-na.ssl-images-amazon.com/images...</td>\n",
              "      <td>SHIRT</td>\n",
              "      <td>kingyuan 110d 44e 46dd  48d wider tear drop ov...</td>\n",
              "      <td>115.99</td>\n",
              "    </tr>\n",
              "    <tr>\n",
              "      <th>4199</th>\n",
              "      <td>B071JR3XX2</td>\n",
              "      <td>KingYuan</td>\n",
              "      <td>Flesh</td>\n",
              "      <td>https://images-na.ssl-images-amazon.com/images...</td>\n",
              "      <td>SHIRT</td>\n",
              "      <td>kingyuan 90d 38dd  40d  36e wider tear drop ov...</td>\n",
              "      <td>66.99</td>\n",
              "    </tr>\n",
              "    <tr>\n",
              "      <th>3291</th>\n",
              "      <td>B071JR3TVN</td>\n",
              "      <td>KingYuan</td>\n",
              "      <td>Flesh</td>\n",
              "      <td>https://images-na.ssl-images-amazon.com/images...</td>\n",
              "      <td>SHIRT</td>\n",
              "      <td>kingyuan 80d 34dd  36d  38c wider tear drop ov...</td>\n",
              "      <td>46.99</td>\n",
              "    </tr>\n",
              "    <tr>\n",
              "      <th>4794</th>\n",
              "      <td>B0721376PR</td>\n",
              "      <td>KingYuan</td>\n",
              "      <td>Flesh</td>\n",
              "      <td>https://images-na.ssl-images-amazon.com/images...</td>\n",
              "      <td>SHIRT</td>\n",
              "      <td>kingyuan 95d 40dd  42d  44c wider tear drop ov...</td>\n",
              "      <td>76.99</td>\n",
              "    </tr>\n",
              "    <tr>\n",
              "      <th>6682</th>\n",
              "      <td>B071G51ZN5</td>\n",
              "      <td>KingYuan</td>\n",
              "      <td>Flesh</td>\n",
              "      <td>https://images-na.ssl-images-amazon.com/images...</td>\n",
              "      <td>SHIRT</td>\n",
              "      <td>kingyuan 120d 48e  50dd  52d wider tear drop o...</td>\n",
              "      <td>143.99</td>\n",
              "    </tr>\n",
              "    <tr>\n",
              "      <th>5412</th>\n",
              "      <td>B071JR2MCH</td>\n",
              "      <td>KingYuan</td>\n",
              "      <td>Flesh</td>\n",
              "      <td>https://images-na.ssl-images-amazon.com/images...</td>\n",
              "      <td>SHIRT</td>\n",
              "      <td>kingyuan 100d 42dd  44d  46c wider tear drop o...</td>\n",
              "      <td>86.99</td>\n",
              "    </tr>\n",
              "    <tr>\n",
              "      <th>5331</th>\n",
              "      <td>B071JQM2PZ</td>\n",
              "      <td>KingYuan</td>\n",
              "      <td>Flesh</td>\n",
              "      <td>https://images-na.ssl-images-amazon.com/images...</td>\n",
              "      <td>SHIRT</td>\n",
              "      <td>kingyuan 115d 46e  48dd  50d wider tear drop o...</td>\n",
              "      <td>129.99</td>\n",
              "    </tr>\n",
              "  </tbody>\n",
              "</table>\n",
              "</div>"
            ],
            "text/plain": [
              "            asin  ... formatted_price\n",
              "6948  B07213TY3D  ...           39.99\n",
              "6637  B07213B45W  ...           32.99\n",
              "3603  B071WNSBT6  ...           56.99\n",
              "2226  B071WNMPQX  ...          115.99\n",
              "4199  B071JR3XX2  ...           66.99\n",
              "3291  B071JR3TVN  ...           46.99\n",
              "4794  B0721376PR  ...           76.99\n",
              "6682  B071G51ZN5  ...          143.99\n",
              "5412  B071JR2MCH  ...           86.99\n",
              "5331  B071JQM2PZ  ...          129.99\n",
              "\n",
              "[10 rows x 7 columns]"
            ]
          },
          "metadata": {
            "tags": []
          },
          "execution_count": 36
        }
      ]
    },
    {
      "cell_type": "code",
      "metadata": {
        "colab": {
          "base_uri": "https://localhost:8080/"
        },
        "id": "n-nc-ghnePP-",
        "outputId": "452a3d91-9a3b-46d7-9868-3f4e25717617"
      },
      "source": [
        "title = 'womens unique 100 cotton  special olympics world games 2015 white size l '\n",
        "top_10 = find_similarity(title,10)"
      ],
      "execution_count": null,
      "outputs": [
        {
          "output_type": "stream",
          "text": [
            "Total time ===========>  0.10569095611572266\n"
          ],
          "name": "stdout"
        }
      ]
    },
    {
      "cell_type": "code",
      "metadata": {
        "colab": {
          "base_uri": "https://localhost:8080/",
          "height": 1000
        },
        "id": "k__7sz_mfCYc",
        "outputId": "8f43efe9-7d1e-4dbe-e61f-99cd3de21547"
      },
      "source": [
        "top_10"
      ],
      "execution_count": null,
      "outputs": [
        {
          "output_type": "execute_result",
          "data": {
            "text/html": [
              "<div>\n",
              "<style scoped>\n",
              "    .dataframe tbody tr th:only-of-type {\n",
              "        vertical-align: middle;\n",
              "    }\n",
              "\n",
              "    .dataframe tbody tr th {\n",
              "        vertical-align: top;\n",
              "    }\n",
              "\n",
              "    .dataframe thead th {\n",
              "        text-align: right;\n",
              "    }\n",
              "</style>\n",
              "<table border=\"1\" class=\"dataframe\">\n",
              "  <thead>\n",
              "    <tr style=\"text-align: right;\">\n",
              "      <th></th>\n",
              "      <th>asin</th>\n",
              "      <th>brand</th>\n",
              "      <th>color</th>\n",
              "      <th>medium_image_url</th>\n",
              "      <th>product_type_name</th>\n",
              "      <th>title</th>\n",
              "      <th>formatted_price</th>\n",
              "    </tr>\n",
              "  </thead>\n",
              "  <tbody>\n",
              "    <tr>\n",
              "      <th>1</th>\n",
              "      <td>B012YX2ZPI</td>\n",
              "      <td>HX-Kingdom Fashion T-shirts</td>\n",
              "      <td>White</td>\n",
              "      <td>https://images-na.ssl-images-amazon.com/images...</td>\n",
              "      <td>SHIRT</td>\n",
              "      <td>womens unique 100 cotton  special olympics wor...</td>\n",
              "      <td>9.99</td>\n",
              "    </tr>\n",
              "    <tr>\n",
              "      <th>84</th>\n",
              "      <td>B012YX3I5E</td>\n",
              "      <td>HX-Kingdom Fashion T-shirts</td>\n",
              "      <td>Red</td>\n",
              "      <td>https://images-na.ssl-images-amazon.com/images...</td>\n",
              "      <td>SHIRT</td>\n",
              "      <td>womens new 100 cotton  special olympics world ...</td>\n",
              "      <td>9.99</td>\n",
              "    </tr>\n",
              "    <tr>\n",
              "      <th>68</th>\n",
              "      <td>B012YX26Q6</td>\n",
              "      <td>HX-Kingdom Fashion T-shirts</td>\n",
              "      <td>Pink</td>\n",
              "      <td>https://images-na.ssl-images-amazon.com/images...</td>\n",
              "      <td>SHIRT</td>\n",
              "      <td>womens fashion tshirts  special olympics world...</td>\n",
              "      <td>9.99</td>\n",
              "    </tr>\n",
              "    <tr>\n",
              "      <th>99</th>\n",
              "      <td>B012YX3XTU</td>\n",
              "      <td>HX-Kingdom Fashion T-shirts</td>\n",
              "      <td>Red</td>\n",
              "      <td>https://images-na.ssl-images-amazon.com/images...</td>\n",
              "      <td>SHIRT</td>\n",
              "      <td>womens casual tshirt  special olympics world g...</td>\n",
              "      <td>9.99</td>\n",
              "    </tr>\n",
              "    <tr>\n",
              "      <th>46</th>\n",
              "      <td>B012YX2M3I</td>\n",
              "      <td>HX-Kingdom Fashion T-shirts</td>\n",
              "      <td>White</td>\n",
              "      <td>https://images-na.ssl-images-amazon.com/images...</td>\n",
              "      <td>SHIRT</td>\n",
              "      <td>womens best graphic tshirts  special olympics ...</td>\n",
              "      <td>9.99</td>\n",
              "    </tr>\n",
              "    <tr>\n",
              "      <th>13840</th>\n",
              "      <td>B01338MTHM</td>\n",
              "      <td>MAM2 Arts</td>\n",
              "      <td>Black</td>\n",
              "      <td>https://images-na.ssl-images-amazon.com/images...</td>\n",
              "      <td>BOOKS_1973_AND_LATER</td>\n",
              "      <td>funny special olympics world sports games 2015...</td>\n",
              "      <td>9.50</td>\n",
              "    </tr>\n",
              "    <tr>\n",
              "      <th>162</th>\n",
              "      <td>B012YX2OJU</td>\n",
              "      <td>HX-Kingdom Fashion T-shirts</td>\n",
              "      <td>Skyblue</td>\n",
              "      <td>https://images-na.ssl-images-amazon.com/images...</td>\n",
              "      <td>SHIRT</td>\n",
              "      <td>womens new style tshirt  special olympics worl...</td>\n",
              "      <td>9.99</td>\n",
              "    </tr>\n",
              "    <tr>\n",
              "      <th>27</th>\n",
              "      <td>B012YX4TVG</td>\n",
              "      <td>HX-Kingdom Fashion T-shirts</td>\n",
              "      <td>Royalblue</td>\n",
              "      <td>https://images-na.ssl-images-amazon.com/images...</td>\n",
              "      <td>SHIRT</td>\n",
              "      <td>womens unique tshirt  special olympics world g...</td>\n",
              "      <td>9.99</td>\n",
              "    </tr>\n",
              "    <tr>\n",
              "      <th>231</th>\n",
              "      <td>B012YX4LVE</td>\n",
              "      <td>HX-Kingdom Fashion T-shirts</td>\n",
              "      <td>Orange</td>\n",
              "      <td>https://images-na.ssl-images-amazon.com/images...</td>\n",
              "      <td>SHIRT</td>\n",
              "      <td>womens vintage tshirt  special olympics world ...</td>\n",
              "      <td>9.99</td>\n",
              "    </tr>\n",
              "    <tr>\n",
              "      <th>11060</th>\n",
              "      <td>B01338LWAM</td>\n",
              "      <td>MAM2 Arts</td>\n",
              "      <td>Skyblue</td>\n",
              "      <td>https://images-na.ssl-images-amazon.com/images...</td>\n",
              "      <td>BOOKS_1973_AND_LATER</td>\n",
              "      <td>cool special olympics world sports games 2015 ...</td>\n",
              "      <td>9.38</td>\n",
              "    </tr>\n",
              "  </tbody>\n",
              "</table>\n",
              "</div>"
            ],
            "text/plain": [
              "             asin  ... formatted_price\n",
              "1      B012YX2ZPI  ...            9.99\n",
              "84     B012YX3I5E  ...            9.99\n",
              "68     B012YX26Q6  ...            9.99\n",
              "99     B012YX3XTU  ...            9.99\n",
              "46     B012YX2M3I  ...            9.99\n",
              "13840  B01338MTHM  ...            9.50\n",
              "162    B012YX2OJU  ...            9.99\n",
              "27     B012YX4TVG  ...            9.99\n",
              "231    B012YX4LVE  ...            9.99\n",
              "11060  B01338LWAM  ...            9.38\n",
              "\n",
              "[10 rows x 7 columns]"
            ]
          },
          "metadata": {
            "tags": []
          },
          "execution_count": 90
        }
      ]
    }
  ]
}